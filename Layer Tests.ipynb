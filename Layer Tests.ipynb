{
 "cells": [
  {
   "cell_type": "code",
   "execution_count": 1,
   "metadata": {},
   "outputs": [
    {
     "data": {
      "text/html": [
       "<style>.container { width:100% !important; }</style>"
      ],
      "text/plain": [
       "<IPython.core.display.HTML object>"
      ]
     },
     "metadata": {},
     "output_type": "display_data"
    }
   ],
   "source": [
    "from IPython.core.display import display, HTML\n",
    "display(HTML(\"<style>.container { width:100% !important; }</style>\"))\n",
    "%load_ext autoreload\n",
    "%autoreload 2"
   ]
  },
  {
   "cell_type": "code",
   "execution_count": 2,
   "metadata": {},
   "outputs": [],
   "source": [
    "from tqdm.notebook import tnrange, tqdm\n",
    "from jax import random, vmap, jit, value_and_grad\n",
    "from jax.experimental import optimizers, stax\n",
    "import jax.numpy as np\n",
    "import staxplusplus as sp\n",
    "from normalizing_flows import *\n",
    "from util import *\n",
    "import matplotlib.pyplot as plt"
   ]
  },
  {
   "cell_type": "markdown",
   "metadata": {},
   "source": [
    "# Regular Tests"
   ]
  },
  {
   "cell_type": "code",
   "execution_count": 3,
   "metadata": {},
   "outputs": [],
   "source": [
    "key = random.PRNGKey( 0 )\n",
    "\n",
    "x_dim = 12\n",
    "x = random.normal( key, ( 10, x_dim ) )"
   ]
  },
  {
   "cell_type": "code",
   "execution_count": 4,
   "metadata": {},
   "outputs": [],
   "source": [
    "def Transform( out_shape, n_hidden_layers=2, layer_size=16 ):\n",
    "    out_dim = out_shape[-1]\n",
    "    # Build the s and t networks that xb will be fed into\n",
    "    layer_sizes = [ layer_size for _ in range( n_hidden_layers ) ]\n",
    "    log_s_out = sp.sequential( sp.Dense( out_dim ), sp.Tanh() )\n",
    "    t_out = sp.sequential( sp.Dense( out_dim ) )\n",
    "    dense_layers = [ sp.Dense( layer_size ) ]*n_hidden_layers\n",
    "    coupling_param_architecture = sp.sequential( *dense_layers, sp.FanOut( 2 ), sp.parallel( log_s_out, t_out ) )\n",
    "\n",
    "    # Split x into xa, xb and feed xb into its path\n",
    "    return coupling_param_architecture\n",
    "\n",
    "def ConditionedTransform( out_shape, n_hidden_layers=2, layer_size=16 ):\n",
    "\n",
    "    # Just concatenate the conditioners\n",
    "    coupling_param_architecture = Transform( out_shape, n_hidden_layers, layer_size )\n",
    "    return sp.sequential( sp.FanInConcat(), coupling_param_architecture )"
   ]
  },
  {
   "cell_type": "code",
   "execution_count": 5,
   "metadata": {},
   "outputs": [],
   "source": [
    "# flow = sequential_flow( ActNorm() )\n",
    "# flow = sequential_flow( BatchNorm(), Reverse() )\n",
    "# flow = sequential_flow( BatchNorm(), AffineCoupling( Transform ), Reverse() )\n",
    "# flow = sequential_flow( BatchNorm(), ConditionedAffineCoupling( ConditionedTransform ), Reverse() )\n",
    "# flow = sequential_flow( BatchNorm(), MAF( hidden_layer_sizes=[ 16, 16 ] ), Reverse() )\n",
    "# flow = sequential_flow( Sigmoid(), Logit() )\n",
    "# flow = sequential_flow( LeakyReLU() )\n",
    "# flow = sequential_flow( Affine() )\n",
    "\n",
    "# flow = sequential_flow( FactorOut( 2 ), FanInConcat( 2 ), )\n",
    "\n",
    "# flow = sequential_flow( FactorOut( 2 ), factored_flow( BatchNorm(),\n",
    "#                                                    BatchNorm() ), FanInConcat( 2 ), Reverse() )\n",
    "\n",
    "# flow = sequential_flow( FactorOut( 2 ), factored_flow( sequential_flow( BatchNorm(), AffineCoupling( Transform ) ),\n",
    "#                                                    sequential_flow( BatchNorm(), AffineCoupling( Transform ) ) ), FanInConcat( 2 ), Reverse() )\n",
    "\n",
    "# flow = sequential_flow( FactorOut( 2 ), factored_flow( sequential_flow( BatchNorm(), AffineCoupling( Transform ) ),\n",
    "#                                                    sequential_flow( BatchNorm(), ConditionedAffineCoupling( ConditionedTransform ) ) ), FanInConcat( 2 ), Reverse() )\n",
    "\n",
    "# flow = sequential_flow( FactorOut( 2 ), factored_flow( sequential_flow( BatchNorm(), ConditionedAffineCoupling( ConditionedTransform ) ),\n",
    "#                                                    sequential_flow( BatchNorm(), ConditionedAffineCoupling( ConditionedTransform ) ) ), FanInConcat( 2 ), Reverse() )\n",
    "\n",
    "# flow = sequential_flow( FactorOut( 3 ), factored_flow( sequential_flow( BatchNorm(), ConditionedAffineCoupling( ConditionedTransform ) ),\n",
    "#                                                    sequential_flow( BatchNorm(), ConditionedAffineCoupling( ConditionedTransform ) ),\n",
    "#                                                    sequential_flow( BatchNorm(), ConditionedAffineCoupling( ConditionedTransform ) ) ), FanInConcat( 3 ) )\n",
    "\n",
    "# flow = sequential_flow( FactorOut( 3 ), factored_flow( sequential_flow( BatchNorm(), ConditionedAffineCoupling( ConditionedTransform ) ),\n",
    "#                                                    sequential_flow( BatchNorm(), ConditionedAffineCoupling( ConditionedTransform ) ),\n",
    "#                                                    sequential_flow( BatchNorm(), MAF( hidden_layer_sizes=[ 16, 16 ] ) ) ), FanInConcat( 3 ) )\n",
    "\n",
    "flow = sequential_flow( FactorOut( 3 ), factored_flow( sequential_flow( BatchNorm(), ConditionedAffineCoupling( ConditionedTransform ), Sigmoid(), Logit() ),\n",
    "                                                   sequential_flow( BatchNorm(), ConditionedAffineCoupling( ConditionedTransform ) ),\n",
    "                                                   sequential_flow( BatchNorm(), MAF( hidden_layer_sizes=[ 16, 16 ] ) ) ), FanInConcat( 3 ) )"
   ]
  },
  {
   "cell_type": "code",
   "execution_count": 6,
   "metadata": {
    "scrolled": false
   },
   "outputs": [
    {
     "name": "stdout",
     "output_type": "stream",
     "text": [
      "Transform consistency diffs: x_diff: 0.002, log_px_diff: 0.000\n",
      "Log det diff: 0.000\n"
     ]
    }
   ],
   "source": [
    "flow_test( flow, x, key )"
   ]
  },
  {
   "cell_type": "code",
   "execution_count": 7,
   "metadata": {},
   "outputs": [
    {
     "data": {
      "text/plain": [
       "(-1, -2, -3)"
      ]
     },
     "execution_count": 7,
     "metadata": {},
     "output_type": "execute_result"
    }
   ],
   "source": [
    "N = 3\n",
    "tuple( range( -1, -( N + 1 ), -1 ) )"
   ]
  },
  {
   "cell_type": "markdown",
   "metadata": {},
   "source": [
    "# Image Tests"
   ]
  },
  {
   "cell_type": "code",
   "execution_count": 8,
   "metadata": {},
   "outputs": [],
   "source": [
    "key = random.PRNGKey( 0 )\n",
    "\n",
    "# x_shape = ( 4, 8, 6 )\n",
    "x_shape = ( 2, 2, 2 )\n",
    "x = random.normal( key, ( 10, ) + x_shape )"
   ]
  },
  {
   "cell_type": "code",
   "execution_count": 9,
   "metadata": {},
   "outputs": [],
   "source": [
    "def Transform( out_shape ):\n",
    "    # Going to use padding of 'SAME' everywhere to make things simple\n",
    "    _, _, channel = out_shape\n",
    "    \n",
    "    feature_extract = sp.sequential( sp.Conv( 4, ( 3, 3 ), padding='SAME' ),\n",
    "                                 sp.Relu(),\n",
    "                                 sp.BatchNorm(),\n",
    "                                 sp.ConvTranspose( 5, ( 3, 3 ), padding='SAME' ) )\n",
    "    \n",
    "    log_s = sp.sequential( sp.ConvTranspose( channel, ( 3, 3 ), padding='SAME' ) )\n",
    "    t = sp.sequential( sp.ConvTranspose( channel, ( 3, 3 ), padding='SAME' ) )\n",
    "    \n",
    "    return sp.sequential( feature_extract, sp.FanOut( 2 ), sp.parallel( log_s, t ) )\n",
    "\n",
    "def ConditionedTransform( out_shape ):\n",
    "\n",
    "    # Just concatenate the conditioners\n",
    "    coupling_param_architecture = Transform( out_shape )\n",
    "    return sp.sequential( sp.FanInConcat(), coupling_param_architecture )    "
   ]
  },
  {
   "cell_type": "code",
   "execution_count": 10,
   "metadata": {},
   "outputs": [],
   "source": [
    "# flow = AffineCoupling( Transform )\n",
    "flow = ConditionedAffineCoupling( ConditionedTransform )\n",
    "# flow = OnebyOneConv()\n",
    "# flow = sequential_flow( OnebyOneConv(), AffineCoupling( Transform ) )\n",
    "# flow = sequential_flow( BatchNorm(), OnebyOneConv(), AffineCoupling( Transform ) )\n",
    "# flow = sequential_flow( CheckerboardFactor( 2 ),\n",
    "#                     factored_flow( AffineCoupling( Transform ),\n",
    "#                                    AffineCoupling( Transform ) ),\n",
    "#                     CheckerboardCombine( 2 ) )\n",
    "# flow = sequential_flow( CheckerboardFactor( 2 ),\n",
    "#                     factored_flow( OnebyOneConv(),\n",
    "#                                    AffineCoupling( Transform ) ),\n",
    "#                     CheckerboardCombine( 2 ) )\n",
    "\n",
    "# flow = sequential_flow( BatchNorm(),\n",
    "#                     AffineCoupling( Transform ),\n",
    "#                     BatchNorm(),\n",
    "#                     OnebyOneConv(),\n",
    "#                     BatchNorm(),\n",
    "#                     AffineCoupling( Transform ) )\n",
    "\n",
    "# flow = sequential_flow( CheckerboardSqueeze(),\n",
    "#                     CheckerboardUnSqueeze() )\n",
    "\n",
    "# flow = sequential_flow( CheckerboardSqueeze(),\n",
    "#                     AffineCoupling( Transform ),\n",
    "#                     CheckerboardUnSqueeze() )\n",
    "\n",
    "# flow = GLOW( Transform, name='glow1' )\n",
    "\n",
    "# flow = sequential_flow( CheckerboardFactor( 2 ),\n",
    "#                     factored_flow( sequential_flow( ActNorm( name='glow1_act_norm' ) ),\n",
    "#                                    sequential_flow( ActNorm( name='glow2_act_norm' ) ) ),\n",
    "#                     CheckerboardCombine( 2 ) )\n",
    "\n",
    "# flow = sequential_flow( CheckerboardFactor( 2 ),\n",
    "#                     factored_flow( ActNorm( name='glow1_act_norm' ),\n",
    "#                                    ActNorm( name='glow2_act_norm' ) ),\n",
    "#                     CheckerboardCombine( 2 ) )\n",
    "\n",
    "# flow = sequential_flow( CheckerboardFactor( 2 ),\n",
    "#                     factored_flow( GLOW( Transform, name='glow1' ),\n",
    "#                                    GLOW( Transform, name='glow2' ) ),\n",
    "#                     CheckerboardCombine( 2 ) )\n",
    "\n",
    "flow = sequential_flow( GLOW( Transform, name='glow1' ),\n",
    "                    GLOW( Transform, name='glow2' ) )\n",
    "\n",
    "# flow = CircularConv( ( 2, 2 ) )"
   ]
  },
  {
   "cell_type": "code",
   "execution_count": 11,
   "metadata": {
    "scrolled": false
   },
   "outputs": [],
   "source": [
    "init_fun, forward, inverse = flow\n",
    "\n",
    "input_shape = x.shape[1:]\n",
    "condition_shape = ()\n",
    "cond = ()\n",
    "\n",
    "names, output_shape, params, static_params = init_fun( key, input_shape, condition_shape )\n",
    "\n",
    "# actnorm_names = [ 'glow1_act_norm', 'glow2_act_norm' ]\n",
    "# params = actnorm_init( x, actnorm_names, names, params, static_params, forward )"
   ]
  },
  {
   "cell_type": "code",
   "execution_count": 12,
   "metadata": {
    "scrolled": false
   },
   "outputs": [
    {
     "name": "stdout",
     "output_type": "stream",
     "text": [
      "Transform consistency diffs: x_diff: 0.000, log_px_diff: 0.000\n",
      "Log det diff: 0.000\n"
     ]
    }
   ],
   "source": [
    "flow_test( flow, x[:3], key )"
   ]
  },
  {
   "cell_type": "code",
   "execution_count": 13,
   "metadata": {},
   "outputs": [
    {
     "ename": "AssertionError",
     "evalue": "",
     "output_type": "error",
     "traceback": [
      "\u001b[0;31m---------------------------------------------------------------------------\u001b[0m",
      "\u001b[0;31mAssertionError\u001b[0m                            Traceback (most recent call last)",
      "\u001b[0;32m<ipython-input-13-29403cf677e6>\u001b[0m in \u001b[0;36m<module>\u001b[0;34m\u001b[0m\n\u001b[0;32m----> 1\u001b[0;31m \u001b[0;32massert\u001b[0m \u001b[0;36m0\u001b[0m\u001b[0;34m\u001b[0m\u001b[0;34m\u001b[0m\u001b[0m\n\u001b[0m",
      "\u001b[0;31mAssertionError\u001b[0m: "
     ]
    }
   ],
   "source": [
    "assert 0"
   ]
  },
  {
   "cell_type": "code",
   "execution_count": null,
   "metadata": {},
   "outputs": [],
   "source": [
    "flow = MultiChannelCircularConv( ( 2, 2 ), 4 )\n",
    "\n",
    "init_fun, forward, inverse = flow\n",
    "\n",
    "input_shape = x.shape[1:]\n",
    "condition_shape = ()\n",
    "cond = ()\n",
    "names, output_shape, params, static_params = init_fun( key, input_shape, condition_shape )"
   ]
  },
  {
   "cell_type": "code",
   "execution_count": null,
   "metadata": {
    "scrolled": false
   },
   "outputs": [],
   "source": [
    "flow_test( flow, x[:1], key )"
   ]
  },
  {
   "cell_type": "code",
   "execution_count": null,
   "metadata": {},
   "outputs": [],
   "source": []
  }
 ],
 "metadata": {
  "kernelspec": {
   "display_name": "Python 3",
   "language": "python",
   "name": "python3"
  },
  "language_info": {
   "codemirror_mode": {
    "name": "ipython",
    "version": 3
   },
   "file_extension": ".py",
   "mimetype": "text/x-python",
   "name": "python",
   "nbconvert_exporter": "python",
   "pygments_lexer": "ipython3",
   "version": "3.7.6"
  }
 },
 "nbformat": 4,
 "nbformat_minor": 2
}
