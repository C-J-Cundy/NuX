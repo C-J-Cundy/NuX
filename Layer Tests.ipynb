{
 "cells": [
  {
   "cell_type": "code",
   "execution_count": 8,
   "metadata": {},
   "outputs": [
    {
     "data": {
      "text/html": [
       "<style>.container { width:100% !important; }</style>"
      ],
      "text/plain": [
       "<IPython.core.display.HTML object>"
      ]
     },
     "metadata": {},
     "output_type": "display_data"
    },
    {
     "name": "stdout",
     "output_type": "stream",
     "text": [
      "The autoreload extension is already loaded. To reload it, use:\n",
      "  %reload_ext autoreload\n"
     ]
    }
   ],
   "source": [
    "from IPython.core.display import display, HTML\n",
    "display(HTML(\"<style>.container { width:100% !important; }</style>\"))\n",
    "%load_ext autoreload\n",
    "%autoreload 2"
   ]
  },
  {
   "cell_type": "code",
   "execution_count": 213,
   "metadata": {},
   "outputs": [],
   "source": [
    "from tqdm.notebook import tnrange, tqdm\n",
    "from jax import random, vmap, jit, value_and_grad\n",
    "from jax.experimental import optimizers, stax\n",
    "import jax.numpy as np\n",
    "import staxplusplus as spp\n",
    "from normalizing_flows import *\n",
    "from util import *\n",
    "import matplotlib.pyplot as plt"
   ]
  },
  {
   "cell_type": "markdown",
   "metadata": {},
   "source": [
    "# Regular Tests"
   ]
  },
  {
   "cell_type": "code",
   "execution_count": 214,
   "metadata": {},
   "outputs": [],
   "source": [
    "key = random.PRNGKey( 0 )\n",
    "\n",
    "x_dim = 12\n",
    "x = random.normal( key, ( 10, x_dim ) )"
   ]
  },
  {
   "cell_type": "code",
   "execution_count": 209,
   "metadata": {},
   "outputs": [],
   "source": [
    "def Transform( out_shape, n_hidden_layers=2, layer_size=16 ):\n",
    "    out_dim = out_shape[-1]\n",
    "    # Build the s and t networks that xb will be fed into\n",
    "    layer_sizes = [ layer_size for _ in range( n_hidden_layers ) ]\n",
    "    log_s_out = spp.sequential( spp.Dense( out_dim ), spp.Tanh() )\n",
    "    t_out = spp.sequential( spp.Dense( out_dim ) )\n",
    "    dense_layers = [ spp.Dense( layer_size ) ]*n_hidden_layers\n",
    "    coupling_param_architecture = spp.sequential( *dense_layers, spp.FanOut( 2 ), spp.parallel( log_s_out, t_out ) )\n",
    "\n",
    "    # Split x into xa, xb and feed xb into its path\n",
    "    return coupling_param_architecture\n",
    "\n",
    "def ConditionedTransform( out_shape, n_hidden_layers=2, layer_size=16 ):\n",
    "\n",
    "    # Just concatenate the conditioners\n",
    "    coupling_param_architecture = Transform( out_shape, n_hidden_layers, layer_size )\n",
    "    return spp.sequential( spp.FanInConcat(), coupling_param_architecture )"
   ]
  },
  {
   "cell_type": "code",
   "execution_count": 210,
   "metadata": {},
   "outputs": [],
   "source": [
    "# flow = sequential_flow( ActNorm() )\n",
    "# flow = sequential_flow( BatchNorm(), Reverse() )\n",
    "# flow = sequential_flow( BatchNorm(), AffineCoupling( Transform ), Reverse() )\n",
    "# flow = sequential_flow( BatchNorm(), ConditionedAffineCoupling( ConditionedTransform ), Reverse() )\n",
    "# flow = sequential_flow( BatchNorm(), MAF( hidden_layer_sizes=[ 16, 16 ] ), Reverse() )\n",
    "# flow = sequential_flow( Sigmoid(), Logit() )\n",
    "# flow = sequential_flow( LeakyReLU() )\n",
    "# flow = sequential_flow( Affine() )\n",
    "\n",
    "# flow = sequential_flow( FactorOut( 2 ), FanInConcat( 2 ), )\n",
    "\n",
    "# flow = sequential_flow( FactorOut( 2 ), factored_flow( BatchNorm(),\n",
    "#                                                    BatchNorm() ), FanInConcat( 2 ), Reverse() )\n",
    "\n",
    "# flow = sequential_flow( FactorOut( 2 ), factored_flow( sequential_flow( BatchNorm(), AffineCoupling( Transform ) ),\n",
    "#                                                    sequential_flow( BatchNorm(), AffineCoupling( Transform ) ) ), FanInConcat( 2 ), Reverse() )\n",
    "\n",
    "# flow = sequential_flow( FactorOut( 2 ), factored_flow( sequential_flow( BatchNorm(), AffineCoupling( Transform ) ),\n",
    "#                                                    sequential_flow( BatchNorm(), ConditionedAffineCoupling( ConditionedTransform ) ) ), FanInConcat( 2 ), Reverse() )\n",
    "\n",
    "# flow = sequential_flow( FactorOut( 2 ), factored_flow( sequential_flow( BatchNorm(), ConditionedAffineCoupling( ConditionedTransform ) ),\n",
    "#                                                    sequential_flow( BatchNorm(), ConditionedAffineCoupling( ConditionedTransform ) ) ), FanInConcat( 2 ), Reverse() )\n",
    "\n",
    "# flow = sequential_flow( FactorOut( 3 ), factored_flow( sequential_flow( BatchNorm(), ConditionedAffineCoupling( ConditionedTransform ) ),\n",
    "#                                                    sequential_flow( BatchNorm(), ConditionedAffineCoupling( ConditionedTransform ) ),\n",
    "#                                                    sequential_flow( BatchNorm(), ConditionedAffineCoupling( ConditionedTransform ) ) ), FanInConcat( 3 ) )\n",
    "\n",
    "# flow = sequential_flow( FactorOut( 3 ), factored_flow( sequential_flow( BatchNorm(), ConditionedAffineCoupling( ConditionedTransform ) ),\n",
    "#                                                    sequential_flow( BatchNorm(), ConditionedAffineCoupling( ConditionedTransform ) ),\n",
    "#                                                    sequential_flow( BatchNorm(), MAF( hidden_layer_sizes=[ 16, 16 ] ) ) ), FanInConcat( 3 ) )\n",
    "\n",
    "flow = sequential_flow( FactorOut( 3 ), factored_flow( sequential_flow( BatchNorm(), ConditionedAffineCoupling( ConditionedTransform ), Sigmoid(), Logit() ),\n",
    "                                                   sequential_flow( BatchNorm(), ConditionedAffineCoupling( ConditionedTransform ) ),\n",
    "                                                   sequential_flow( BatchNorm(), MAF( hidden_layer_sizes=[ 16, 16 ] ) ) ), FanInConcat( 3 ) )"
   ]
  },
  {
   "cell_type": "code",
   "execution_count": 211,
   "metadata": {
    "scrolled": false
   },
   "outputs": [
    {
     "name": "stdout",
     "output_type": "stream",
     "text": [
      "Transform consistency diffs: x_diff: 0.000, log_px_diff: 0.000\n",
      "Log det diff: 0.000\n"
     ]
    }
   ],
   "source": [
    "flow = MaskedAffineCoupling(ConditionedTransform)\n",
    "# flow = ConditionedMaskedAffineCoupling(Transform)\n",
    "flow_test( flow, x, key )"
   ]
  },
  {
   "cell_type": "code",
   "execution_count": null,
   "metadata": {},
   "outputs": [],
   "source": []
  },
  {
   "cell_type": "code",
   "execution_count": null,
   "metadata": {},
   "outputs": [],
   "source": []
  },
  {
   "cell_type": "code",
   "execution_count": null,
   "metadata": {},
   "outputs": [],
   "source": []
  },
  {
   "cell_type": "markdown",
   "metadata": {},
   "source": [
    "# Image Tests"
   ]
  },
  {
   "cell_type": "code",
   "execution_count": 215,
   "metadata": {},
   "outputs": [],
   "source": [
    "key = random.PRNGKey( 0 )\n",
    "\n",
    "# x_shape = ( 4, 8, 6 )\n",
    "x_shape = ( 2, 2, 2 )\n",
    "x = random.normal( key, ( 10, ) + x_shape )"
   ]
  },
  {
   "cell_type": "code",
   "execution_count": 221,
   "metadata": {},
   "outputs": [],
   "source": [
    "def Transform( out_shape ):\n",
    "    # Going to use padding of 'SAME' everywhere to make things simple\n",
    "    _, _, channel = out_shape\n",
    "    \n",
    "    feature_extract = spp.sequential( spp.WeightNormConv( 4, ( 3, 3 ), padding='SAME' ),\n",
    "                                      spp.Relu(),\n",
    "                                      spp.BatchNorm(),\n",
    "                                      spp.ConvTranspose( 5, ( 3, 3 ), padding='SAME' ) )\n",
    "    \n",
    "    log_s = spp.sequential( spp.ConvTranspose( channel, ( 3, 3 ), padding='SAME' ) )\n",
    "    t = spp.sequential( spp.ConvTranspose( channel, ( 3, 3 ), padding='SAME' ) )\n",
    "    \n",
    "    return spp.sequential( feature_extract, spp.FanOut( 2 ), spp.parallel( log_s, t ) )\n",
    "\n",
    "def ConditionedTransform( out_shape ):\n",
    "\n",
    "    # Just concatenate the conditioners\n",
    "    coupling_param_architecture = Transform( out_shape )\n",
    "    return spp.sequential( spp.FanInConcat(), coupling_param_architecture )    "
   ]
  },
  {
   "cell_type": "code",
   "execution_count": 225,
   "metadata": {},
   "outputs": [],
   "source": [
    "# flow = AffineCoupling( Transform )\n",
    "# flow = ConditionedAffineCoupling( ConditionedTransform )\n",
    "# flow = OnebyOneConv()\n",
    "# flow = sequential_flow( OnebyOneConv(), AffineCoupling( Transform ) )\n",
    "# flow = sequential_flow( BatchNorm(), OnebyOneConv(), AffineCoupling( Transform ) )\n",
    "# flow = sequential_flow( CheckerboardFactor( 2 ),\n",
    "#                     factored_flow( AffineCoupling( Transform ),\n",
    "#                                    AffineCoupling( Transform ) ),\n",
    "#                     CheckerboardCombine( 2 ) )\n",
    "# flow = sequential_flow( CheckerboardFactor( 2 ),\n",
    "#                     factored_flow( OnebyOneConv(),\n",
    "#                                    AffineCoupling( Transform ) ),\n",
    "#                     CheckerboardCombine( 2 ) )\n",
    "\n",
    "# flow = sequential_flow( BatchNorm(),\n",
    "#                     AffineCoupling( Transform ),\n",
    "#                     BatchNorm(),\n",
    "#                     OnebyOneConv(),\n",
    "#                     BatchNorm(),\n",
    "#                     AffineCoupling( Transform ) )\n",
    "\n",
    "# flow = sequential_flow( CheckerboardSqueeze(),\n",
    "#                     CheckerboardUnSqueeze() )\n",
    "\n",
    "# flow = sequential_flow( CheckerboardSqueeze(),\n",
    "#                     AffineCoupling( Transform ),\n",
    "#                     CheckerboardUnSqueeze() )\n",
    "\n",
    "# flow = GLOW( Transform, name='glow1' )\n",
    "\n",
    "# flow = sequential_flow( CheckerboardFactor( 2 ),\n",
    "#                     factored_flow( sequential_flow( ActNorm( name='glow1_act_norm' ) ),\n",
    "#                                    sequential_flow( ActNorm( name='glow2_act_norm' ) ) ),\n",
    "#                     CheckerboardCombine( 2 ) )\n",
    "\n",
    "# flow = sequential_flow( CheckerboardFactor( 2 ),\n",
    "#                     factored_flow( ActNorm( name='glow1_act_norm' ),\n",
    "#                                    ActNorm( name='glow2_act_norm' ) ),\n",
    "#                     CheckerboardCombine( 2 ) )\n",
    "\n",
    "# flow = sequential_flow( CheckerboardFactor( 2 ),\n",
    "#                     factored_flow( GLOW( Transform, name='glow1' ),\n",
    "#                                    GLOW( Transform, name='glow2' ) ),\n",
    "#                     CheckerboardCombine( 2 ) )\n",
    "\n",
    "# flow = sequential_flow( GLOWBlock( Transform, name='glow1' ),\n",
    "#                         GLOWBlock( Transform, name='glow2' ) )\n",
    "\n",
    "# flow = CircularConv( ( 2, 2 ) )"
   ]
  },
  {
   "cell_type": "code",
   "execution_count": 226,
   "metadata": {
    "scrolled": false
   },
   "outputs": [],
   "source": [
    "# flow = MaskedAffineCoupling(Transform, mask_type='channel_wise')\n",
    "flow = MaskedAffineCoupling(ConditionedTransform, mask_type='checkerboard')\n",
    "\n",
    "init_fun, forward, inverse = flow\n",
    "\n",
    "input_shape = x.shape[1:]\n",
    "condition_shape = ()\n",
    "cond = ()\n",
    "\n",
    "names, output_shape, params, static_params = init_fun( key, input_shape, condition_shape )\n",
    "\n",
    "# actnorm_names = [ 'glow1_act_norm', 'glow2_act_norm' ]\n",
    "# params = actnorm_init( x, actnorm_names, names, params, static_params, forward )"
   ]
  },
  {
   "cell_type": "code",
   "execution_count": 227,
   "metadata": {
    "scrolled": false
   },
   "outputs": [
    {
     "name": "stdout",
     "output_type": "stream",
     "text": [
      "Transform consistency diffs: x_diff: 0.000, log_px_diff: 0.000\n",
      "Log det diff: 0.000\n"
     ]
    }
   ],
   "source": [
    "flow_test( flow, x[:3], key )"
   ]
  },
  {
   "cell_type": "code",
   "execution_count": null,
   "metadata": {},
   "outputs": [],
   "source": []
  },
  {
   "cell_type": "code",
   "execution_count": null,
   "metadata": {},
   "outputs": [],
   "source": []
  }
 ],
 "metadata": {
  "kernelspec": {
   "display_name": "Python 3",
   "language": "python",
   "name": "python3"
  },
  "language_info": {
   "codemirror_mode": {
    "name": "ipython",
    "version": 3
   },
   "file_extension": ".py",
   "mimetype": "text/x-python",
   "name": "python",
   "nbconvert_exporter": "python",
   "pygments_lexer": "ipython3",
   "version": "3.7.6"
  }
 },
 "nbformat": 4,
 "nbformat_minor": 2
}
