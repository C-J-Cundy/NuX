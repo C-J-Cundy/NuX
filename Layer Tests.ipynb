{
 "cells": [
  {
   "cell_type": "code",
   "execution_count": 1,
   "metadata": {},
   "outputs": [
    {
     "data": {
      "text/html": [
       "<style>.container { width:100% !important; }</style>"
      ],
      "text/plain": [
       "<IPython.core.display.HTML object>"
      ]
     },
     "metadata": {},
     "output_type": "display_data"
    }
   ],
   "source": [
    "from IPython.core.display import display, HTML\n",
    "display(HTML(\"<style>.container { width:100% !important; }</style>\"))\n",
    "%load_ext autoreload\n",
    "%autoreload 2"
   ]
  },
  {
   "cell_type": "code",
   "execution_count": 2,
   "metadata": {},
   "outputs": [],
   "source": [
    "from tqdm.notebook import tnrange, tqdm\n",
    "from jax import random, vmap, jit, value_and_grad\n",
    "from jax.experimental import optimizers, stax\n",
    "import jax.numpy as np\n",
    "import staxplusplus as spp\n",
    "from normalizing_flows import *\n",
    "from util import *\n",
    "import matplotlib.pyplot as plt"
   ]
  },
  {
   "cell_type": "markdown",
   "metadata": {},
   "source": [
    "# Regular Tests"
   ]
  },
  {
   "cell_type": "code",
   "execution_count": 3,
   "metadata": {},
   "outputs": [],
   "source": [
    "key = random.PRNGKey( 0 )\n",
    "\n",
    "x_dim = 12\n",
    "x = random.normal( key, ( 10, x_dim ) )"
   ]
  },
  {
   "cell_type": "code",
   "execution_count": 4,
   "metadata": {},
   "outputs": [],
   "source": [
    "def Transform( out_shape, n_hidden_layers=2, layer_size=16 ):\n",
    "    out_dim = out_shape[-1]\n",
    "    # Build the s and t networks that xb will be fed into\n",
    "    layer_sizes = [ layer_size for _ in range( n_hidden_layers ) ]\n",
    "    log_s_out = spp.sequential( spp.Dense( out_dim ), spp.Tanh() )\n",
    "    t_out = spp.sequential( spp.Dense( out_dim ) )\n",
    "    dense_layers = [ spp.Dense( layer_size ) ]*n_hidden_layers\n",
    "    coupling_param_architecture = spp.sequential( *dense_layers, spp.FanOut( 2 ), spp.parallel( log_s_out, t_out ) )\n",
    "\n",
    "    # Split x into xa, xb and feed xb into its path\n",
    "    return coupling_param_architecture\n",
    "\n",
    "def ConditionedTransform( out_shape, n_hidden_layers=2, layer_size=16 ):\n",
    "\n",
    "    # Just concatenate the conditioners\n",
    "    coupling_param_architecture = Transform( out_shape, n_hidden_layers, layer_size )\n",
    "    return spp.sequential( spp.FanInConcat(), coupling_param_architecture )"
   ]
  },
  {
   "cell_type": "code",
   "execution_count": 13,
   "metadata": {},
   "outputs": [],
   "source": [
    "# flow = sequential_flow( ActNorm() )\n",
    "# flow = sequential_flow( BatchNorm(), Reverse() )\n",
    "# flow = sequential_flow( BatchNorm(), AffineCoupling( Transform ), Reverse() )\n",
    "# flow = sequential_flow( BatchNorm(), ConditionedAffineCoupling( ConditionedTransform ), Reverse() )\n",
    "# flow = sequential_flow( BatchNorm(), MAF( hidden_layer_sizes=[ 16, 16 ] ), Reverse() )\n",
    "# flow = sequential_flow( Sigmoid(), Logit() )\n",
    "# flow = sequential_flow( LeakyReLU() )\n",
    "# flow = sequential_flow( Affine() )\n",
    "\n",
    "# flow = sequential_flow( FactorOut( 2 ), FanInConcat( 2 ), )\n",
    "\n",
    "# flow = sequential_flow( FactorOut( 2 ), factored_flow( BatchNorm(),\n",
    "#                                                    BatchNorm() ), FanInConcat( 2 ), Reverse() )\n",
    "\n",
    "# flow = sequential_flow( FactorOut( 2 ), factored_flow( sequential_flow( BatchNorm(), AffineCoupling( Transform ) ),\n",
    "#                                                    sequential_flow( BatchNorm(), AffineCoupling( Transform ) ) ), FanInConcat( 2 ), Reverse() )\n",
    "\n",
    "# flow = sequential_flow( FactorOut( 2 ), factored_flow( sequential_flow( BatchNorm(), AffineCoupling( Transform ) ),\n",
    "#                                                    sequential_flow( BatchNorm(), ConditionedAffineCoupling( ConditionedTransform ) ) ), FanInConcat( 2 ), Reverse() )\n",
    "\n",
    "# flow = sequential_flow( FactorOut( 2 ), factored_flow( sequential_flow( BatchNorm(), ConditionedAffineCoupling( ConditionedTransform ) ),\n",
    "#                                                    sequential_flow( BatchNorm(), ConditionedAffineCoupling( ConditionedTransform ) ) ), FanInConcat( 2 ), Reverse() )\n",
    "\n",
    "# flow = sequential_flow( FactorOut( 3 ), factored_flow( sequential_flow( BatchNorm(), ConditionedAffineCoupling( ConditionedTransform ) ),\n",
    "#                                                    sequential_flow( BatchNorm(), ConditionedAffineCoupling( ConditionedTransform ) ),\n",
    "#                                                    sequential_flow( BatchNorm(), ConditionedAffineCoupling( ConditionedTransform ) ) ), FanInConcat( 3 ) )\n",
    "\n",
    "# flow = sequential_flow( FactorOut( 3 ), factored_flow( sequential_flow( BatchNorm(), ConditionedAffineCoupling( ConditionedTransform ) ),\n",
    "#                                                    sequential_flow( BatchNorm(), ConditionedAffineCoupling( ConditionedTransform ) ),\n",
    "#                                                    sequential_flow( BatchNorm(), MAF( hidden_layer_sizes=[ 16, 16 ] ) ) ), FanInConcat( 3 ) )\n",
    "\n",
    "# flow = sequential_flow( FactorOut( 3 ), factored_flow( sequential_flow( BatchNorm(), ConditionedAffineCoupling( ConditionedTransform ), Sigmoid(), Logit() ),\n",
    "#                                                    sequential_flow( BatchNorm(), ConditionedAffineCoupling( ConditionedTransform ) ),\n",
    "#                                                    sequential_flow( BatchNorm(), MAF( hidden_layer_sizes=[ 16, 16 ] ) ) ), FanInConcat( 3 ) )\n",
    "\n",
    "flow = sequential_flow(Dequantization(), Logit())"
   ]
  },
  {
   "cell_type": "code",
   "execution_count": 14,
   "metadata": {
    "scrolled": false
   },
   "outputs": [
    {
     "name": "stdout",
     "output_type": "stream",
     "text": [
      "Transform consistency diffs: x_diff: 0.000, log_px_diff: 0.000\n",
      "actual_log_det [-20.86119  -20.852348 -20.975273 -21.126736 -20.609568 -20.918459\n",
      " -20.651346 -21.069828 -20.88155  -21.040016]\n",
      "log_det [-20.861193 -20.852348 -20.975275 -21.126736 -20.609568 -20.91846\n",
      " -20.651344 -21.069828 -20.88155  -21.040016]\n",
      "Log det diff: 0.000\n"
     ]
    }
   ],
   "source": [
    "# flow = MaskedAffineCoupling(ConditionedTransform)\n",
    "# flow = ConditionedMaskedAffineCoupling(Transform)\n",
    "flow_test( flow, x, key )"
   ]
  },
  {
   "cell_type": "code",
   "execution_count": null,
   "metadata": {},
   "outputs": [],
   "source": []
  },
  {
   "cell_type": "code",
   "execution_count": null,
   "metadata": {},
   "outputs": [],
   "source": []
  },
  {
   "cell_type": "code",
   "execution_count": null,
   "metadata": {},
   "outputs": [],
   "source": []
  },
  {
   "cell_type": "markdown",
   "metadata": {},
   "source": [
    "# Image Tests"
   ]
  },
  {
   "cell_type": "code",
   "execution_count": 6,
   "metadata": {},
   "outputs": [],
   "source": [
    "key = random.PRNGKey( 0 )\n",
    "\n",
    "# x_shape = ( 4, 8, 6 )\n",
    "x_shape = ( 2, 2, 2 )\n",
    "x = random.normal( key, ( 10, ) + x_shape )"
   ]
  },
  {
   "cell_type": "code",
   "execution_count": 7,
   "metadata": {},
   "outputs": [],
   "source": [
    "def Transform( out_shape ):\n",
    "    # Going to use padding of 'SAME' everywhere to make things simple\n",
    "    _, _, channel = out_shape\n",
    "    \n",
    "    feature_extract = spp.sequential( spp.WeightNormConv( 4, ( 3, 3 ), padding='SAME' ),\n",
    "                                      spp.Relu(),\n",
    "                                      spp.BatchNorm(),\n",
    "                                      spp.ConvTranspose( 5, ( 3, 3 ), padding='SAME' ) )\n",
    "    \n",
    "    log_s = spp.sequential( spp.ConvTranspose( channel, ( 3, 3 ), padding='SAME' ) )\n",
    "    t = spp.sequential( spp.ConvTranspose( channel, ( 3, 3 ), padding='SAME' ) )\n",
    "    \n",
    "    return spp.sequential( feature_extract, spp.FanOut( 2 ), spp.parallel( log_s, t ) )\n",
    "\n",
    "def ConditionedTransform( out_shape ):\n",
    "\n",
    "    # Just concatenate the conditioners\n",
    "    coupling_param_architecture = Transform( out_shape )\n",
    "    return spp.sequential( spp.FanInConcat(), coupling_param_architecture )    "
   ]
  },
  {
   "cell_type": "code",
   "execution_count": 8,
   "metadata": {},
   "outputs": [],
   "source": [
    "# flow = AffineCoupling( Transform )\n",
    "# flow = ConditionedAffineCoupling( ConditionedTransform )\n",
    "# flow = OnebyOneConv()\n",
    "# flow = sequential_flow( OnebyOneConv(), AffineCoupling( Transform ) )\n",
    "# flow = sequential_flow( BatchNorm(), OnebyOneConv(), AffineCoupling( Transform ) )\n",
    "# flow = sequential_flow( CheckerboardFactor( 2 ),\n",
    "#                     factored_flow( AffineCoupling( Transform ),\n",
    "#                                    AffineCoupling( Transform ) ),\n",
    "#                     CheckerboardCombine( 2 ) )\n",
    "# flow = sequential_flow( CheckerboardFactor( 2 ),\n",
    "#                     factored_flow( OnebyOneConv(),\n",
    "#                                    AffineCoupling( Transform ) ),\n",
    "#                     CheckerboardCombine( 2 ) )\n",
    "\n",
    "# flow = sequential_flow( BatchNorm(),\n",
    "#                     AffineCoupling( Transform ),\n",
    "#                     BatchNorm(),\n",
    "#                     OnebyOneConv(),\n",
    "#                     BatchNorm(),\n",
    "#                     AffineCoupling( Transform ) )\n",
    "\n",
    "# flow = sequential_flow( CheckerboardSqueeze(),\n",
    "#                     CheckerboardUnSqueeze() )\n",
    "\n",
    "# flow = sequential_flow( CheckerboardSqueeze(),\n",
    "#                     AffineCoupling( Transform ),\n",
    "#                     CheckerboardUnSqueeze() )\n",
    "\n",
    "# flow = GLOW( Transform, name='glow1' )\n",
    "\n",
    "# flow = sequential_flow( CheckerboardFactor( 2 ),\n",
    "#                     factored_flow( sequential_flow( ActNorm( name='glow1_act_norm' ) ),\n",
    "#                                    sequential_flow( ActNorm( name='glow2_act_norm' ) ) ),\n",
    "#                     CheckerboardCombine( 2 ) )\n",
    "\n",
    "# flow = sequential_flow( CheckerboardFactor( 2 ),\n",
    "#                     factored_flow( ActNorm( name='glow1_act_norm' ),\n",
    "#                                    ActNorm( name='glow2_act_norm' ) ),\n",
    "#                     CheckerboardCombine( 2 ) )\n",
    "\n",
    "# flow = sequential_flow( CheckerboardFactor( 2 ),\n",
    "#                     factored_flow( GLOW( Transform, name='glow1' ),\n",
    "#                                    GLOW( Transform, name='glow2' ) ),\n",
    "#                     CheckerboardCombine( 2 ) )\n",
    "\n",
    "# flow = sequential_flow( GLOWBlock( Transform, name='glow1' ),\n",
    "#                         GLOWBlock( Transform, name='glow2' ) )\n",
    "\n",
    "# flow = CircularConv( ( 2, 2 ) )"
   ]
  },
  {
   "cell_type": "code",
   "execution_count": 9,
   "metadata": {
    "scrolled": false
   },
   "outputs": [
    {
     "ename": "TypeError",
     "evalue": "object of type 'int' has no len()",
     "output_type": "error",
     "traceback": [
      "\u001b[0;31m---------------------------------------------------------------------------\u001b[0m",
      "\u001b[0;31mTypeError\u001b[0m                                 Traceback (most recent call last)",
      "\u001b[0;32m<ipython-input-9-35269d586a35>\u001b[0m in \u001b[0;36m<module>\u001b[0;34m\u001b[0m\n\u001b[1;32m      8\u001b[0m \u001b[0mcond\u001b[0m \u001b[0;34m=\u001b[0m \u001b[0;34m(\u001b[0m\u001b[0;34m)\u001b[0m\u001b[0;34m\u001b[0m\u001b[0;34m\u001b[0m\u001b[0m\n\u001b[1;32m      9\u001b[0m \u001b[0;34m\u001b[0m\u001b[0m\n\u001b[0;32m---> 10\u001b[0;31m \u001b[0mnames\u001b[0m\u001b[0;34m,\u001b[0m \u001b[0moutput_shape\u001b[0m\u001b[0;34m,\u001b[0m \u001b[0mparams\u001b[0m\u001b[0;34m,\u001b[0m \u001b[0mstatic_params\u001b[0m \u001b[0;34m=\u001b[0m \u001b[0minit_fun\u001b[0m\u001b[0;34m(\u001b[0m \u001b[0mkey\u001b[0m\u001b[0;34m,\u001b[0m \u001b[0minput_shape\u001b[0m\u001b[0;34m,\u001b[0m \u001b[0mcondition_shape\u001b[0m \u001b[0;34m)\u001b[0m\u001b[0;34m\u001b[0m\u001b[0;34m\u001b[0m\u001b[0m\n\u001b[0m\u001b[1;32m     11\u001b[0m \u001b[0;34m\u001b[0m\u001b[0m\n\u001b[1;32m     12\u001b[0m \u001b[0;31m# actnorm_names = [ 'glow1_act_norm', 'glow2_act_norm' ]\u001b[0m\u001b[0;34m\u001b[0m\u001b[0;34m\u001b[0m\u001b[0;34m\u001b[0m\u001b[0m\n",
      "\u001b[0;32m/app/host/normalizing_flows.py\u001b[0m in \u001b[0;36minit_fun\u001b[0;34m(key, input_shape, condition_shape)\u001b[0m\n\u001b[1;32m   1746\u001b[0m         \u001b[0mtransform_input_shape\u001b[0m \u001b[0;34m=\u001b[0m \u001b[0minput_shape\u001b[0m \u001b[0;32mif\u001b[0m \u001b[0mlen\u001b[0m\u001b[0;34m(\u001b[0m\u001b[0mcondition_shape\u001b[0m\u001b[0;34m)\u001b[0m \u001b[0;34m==\u001b[0m \u001b[0;36m0\u001b[0m \u001b[0;32melse\u001b[0m \u001b[0;34m(\u001b[0m\u001b[0minput_shape\u001b[0m\u001b[0;34m,\u001b[0m\u001b[0;34m)\u001b[0m \u001b[0;34m+\u001b[0m \u001b[0mcondition_shape\u001b[0m\u001b[0;34m\u001b[0m\u001b[0;34m\u001b[0m\u001b[0m\n\u001b[1;32m   1747\u001b[0m         \u001b[0m_init_fun\u001b[0m\u001b[0;34m,\u001b[0m \u001b[0mapply_fun\u001b[0m \u001b[0;34m=\u001b[0m \u001b[0mtransform_fun\u001b[0m\u001b[0;34m(\u001b[0m\u001b[0mout_shape\u001b[0m\u001b[0;34m=\u001b[0m\u001b[0minput_shape\u001b[0m\u001b[0;34m)\u001b[0m\u001b[0;34m\u001b[0m\u001b[0;34m\u001b[0m\u001b[0m\n\u001b[0;32m-> 1748\u001b[0;31m         \u001b[0m_\u001b[0m\u001b[0;34m,\u001b[0m \u001b[0;34m(\u001b[0m\u001b[0mlog_s_shape\u001b[0m\u001b[0;34m,\u001b[0m \u001b[0mt_shape\u001b[0m\u001b[0;34m)\u001b[0m\u001b[0;34m,\u001b[0m \u001b[0mtransform_params\u001b[0m\u001b[0;34m,\u001b[0m \u001b[0mstate\u001b[0m \u001b[0;34m=\u001b[0m \u001b[0m_init_fun\u001b[0m\u001b[0;34m(\u001b[0m\u001b[0mkey\u001b[0m\u001b[0;34m,\u001b[0m \u001b[0mtransform_input_shape\u001b[0m\u001b[0;34m)\u001b[0m\u001b[0;34m\u001b[0m\u001b[0;34m\u001b[0m\u001b[0m\n\u001b[0m\u001b[1;32m   1749\u001b[0m \u001b[0;34m\u001b[0m\u001b[0m\n\u001b[1;32m   1750\u001b[0m         \u001b[0mscale\u001b[0m \u001b[0;34m=\u001b[0m \u001b[0;36m0.0\u001b[0m\u001b[0;34m\u001b[0m\u001b[0;34m\u001b[0m\u001b[0m\n",
      "\u001b[0;32m/app/host/staxplusplus.py\u001b[0m in \u001b[0;36minit_fun\u001b[0;34m(key, input_shape)\u001b[0m\n\u001b[1;32m     48\u001b[0m         \u001b[0;32mfor\u001b[0m \u001b[0minit_fun\u001b[0m \u001b[0;32min\u001b[0m \u001b[0minit_funs\u001b[0m\u001b[0;34m:\u001b[0m\u001b[0;34m\u001b[0m\u001b[0;34m\u001b[0m\u001b[0m\n\u001b[1;32m     49\u001b[0m             \u001b[0mkey\u001b[0m\u001b[0;34m,\u001b[0m \u001b[0;34m*\u001b[0m\u001b[0mkeys\u001b[0m \u001b[0;34m=\u001b[0m \u001b[0mrandom\u001b[0m\u001b[0;34m.\u001b[0m\u001b[0msplit\u001b[0m\u001b[0;34m(\u001b[0m\u001b[0mkey\u001b[0m\u001b[0;34m,\u001b[0m \u001b[0;36m2\u001b[0m\u001b[0;34m)\u001b[0m\u001b[0;34m\u001b[0m\u001b[0;34m\u001b[0m\u001b[0m\n\u001b[0;32m---> 50\u001b[0;31m             \u001b[0mname\u001b[0m\u001b[0;34m,\u001b[0m \u001b[0minput_shape\u001b[0m\u001b[0;34m,\u001b[0m \u001b[0mparam\u001b[0m\u001b[0;34m,\u001b[0m \u001b[0mstate\u001b[0m \u001b[0;34m=\u001b[0m \u001b[0minit_fun\u001b[0m\u001b[0;34m(\u001b[0m\u001b[0mkeys\u001b[0m\u001b[0;34m[\u001b[0m\u001b[0;36m0\u001b[0m\u001b[0;34m]\u001b[0m\u001b[0;34m,\u001b[0m \u001b[0minput_shape\u001b[0m\u001b[0;34m)\u001b[0m\u001b[0;34m\u001b[0m\u001b[0;34m\u001b[0m\u001b[0m\n\u001b[0m\u001b[1;32m     51\u001b[0m             \u001b[0mnames\u001b[0m\u001b[0;34m.\u001b[0m\u001b[0mappend\u001b[0m\u001b[0;34m(\u001b[0m\u001b[0mname\u001b[0m\u001b[0;34m)\u001b[0m\u001b[0;34m\u001b[0m\u001b[0;34m\u001b[0m\u001b[0m\n\u001b[1;32m     52\u001b[0m             \u001b[0mparams\u001b[0m\u001b[0;34m.\u001b[0m\u001b[0mappend\u001b[0m\u001b[0;34m(\u001b[0m\u001b[0mparam\u001b[0m\u001b[0;34m)\u001b[0m\u001b[0;34m\u001b[0m\u001b[0;34m\u001b[0m\u001b[0m\n",
      "\u001b[0;32m/app/host/staxplusplus.py\u001b[0m in \u001b[0;36minit_fun\u001b[0;34m(key, input_shape)\u001b[0m\n\u001b[1;32m    143\u001b[0m \u001b[0;34m\u001b[0m\u001b[0m\n\u001b[1;32m    144\u001b[0m         \u001b[0;32mdef\u001b[0m \u001b[0minit_fun\u001b[0m\u001b[0;34m(\u001b[0m\u001b[0mkey\u001b[0m\u001b[0;34m,\u001b[0m \u001b[0minput_shape\u001b[0m\u001b[0;34m)\u001b[0m\u001b[0;34m:\u001b[0m\u001b[0;34m\u001b[0m\u001b[0;34m\u001b[0m\u001b[0m\n\u001b[0;32m--> 145\u001b[0;31m             \u001b[0moutput_shape\u001b[0m\u001b[0;34m,\u001b[0m \u001b[0mparams\u001b[0m \u001b[0;34m=\u001b[0m \u001b[0m_init_fun\u001b[0m\u001b[0;34m(\u001b[0m\u001b[0mkey\u001b[0m\u001b[0;34m,\u001b[0m \u001b[0minput_shape\u001b[0m\u001b[0;34m)\u001b[0m\u001b[0;34m\u001b[0m\u001b[0;34m\u001b[0m\u001b[0m\n\u001b[0m\u001b[1;32m    146\u001b[0m             \u001b[0mstate\u001b[0m \u001b[0;34m=\u001b[0m \u001b[0;34m(\u001b[0m\u001b[0;34m)\u001b[0m\u001b[0;34m\u001b[0m\u001b[0;34m\u001b[0m\u001b[0m\n\u001b[1;32m    147\u001b[0m             \u001b[0;32mreturn\u001b[0m \u001b[0mname\u001b[0m\u001b[0;34m,\u001b[0m \u001b[0moutput_shape\u001b[0m\u001b[0;34m,\u001b[0m \u001b[0mparams\u001b[0m\u001b[0;34m,\u001b[0m \u001b[0mstate\u001b[0m\u001b[0;34m\u001b[0m\u001b[0;34m\u001b[0m\u001b[0m\n",
      "\u001b[0;32m/opt/conda/lib/python3.7/site-packages/jax/experimental/stax.py\u001b[0m in \u001b[0;36minit_fun\u001b[0;34m(rng, input_shape)\u001b[0m\n\u001b[1;32m    249\u001b[0m   \u001b[0;34m\"\"\"Layer construction function for a fan-in concatenation layer.\"\"\"\u001b[0m\u001b[0;34m\u001b[0m\u001b[0;34m\u001b[0m\u001b[0m\n\u001b[1;32m    250\u001b[0m   \u001b[0;32mdef\u001b[0m \u001b[0minit_fun\u001b[0m\u001b[0;34m(\u001b[0m\u001b[0mrng\u001b[0m\u001b[0;34m,\u001b[0m \u001b[0minput_shape\u001b[0m\u001b[0;34m)\u001b[0m\u001b[0;34m:\u001b[0m\u001b[0;34m\u001b[0m\u001b[0;34m\u001b[0m\u001b[0m\n\u001b[0;32m--> 251\u001b[0;31m     \u001b[0max\u001b[0m \u001b[0;34m=\u001b[0m \u001b[0maxis\u001b[0m \u001b[0;34m%\u001b[0m \u001b[0mlen\u001b[0m\u001b[0;34m(\u001b[0m\u001b[0minput_shape\u001b[0m\u001b[0;34m[\u001b[0m\u001b[0;36m0\u001b[0m\u001b[0;34m]\u001b[0m\u001b[0;34m)\u001b[0m\u001b[0;34m\u001b[0m\u001b[0;34m\u001b[0m\u001b[0m\n\u001b[0m\u001b[1;32m    252\u001b[0m     \u001b[0mconcat_size\u001b[0m \u001b[0;34m=\u001b[0m \u001b[0msum\u001b[0m\u001b[0;34m(\u001b[0m\u001b[0mshape\u001b[0m\u001b[0;34m[\u001b[0m\u001b[0max\u001b[0m\u001b[0;34m]\u001b[0m \u001b[0;32mfor\u001b[0m \u001b[0mshape\u001b[0m \u001b[0;32min\u001b[0m \u001b[0minput_shape\u001b[0m\u001b[0;34m)\u001b[0m\u001b[0;34m\u001b[0m\u001b[0;34m\u001b[0m\u001b[0m\n\u001b[1;32m    253\u001b[0m     \u001b[0mout_shape\u001b[0m \u001b[0;34m=\u001b[0m \u001b[0minput_shape\u001b[0m\u001b[0;34m[\u001b[0m\u001b[0;36m0\u001b[0m\u001b[0;34m]\u001b[0m\u001b[0;34m[\u001b[0m\u001b[0;34m:\u001b[0m\u001b[0max\u001b[0m\u001b[0;34m]\u001b[0m \u001b[0;34m+\u001b[0m \u001b[0;34m(\u001b[0m\u001b[0mconcat_size\u001b[0m\u001b[0;34m,\u001b[0m\u001b[0;34m)\u001b[0m \u001b[0;34m+\u001b[0m \u001b[0minput_shape\u001b[0m\u001b[0;34m[\u001b[0m\u001b[0;36m0\u001b[0m\u001b[0;34m]\u001b[0m\u001b[0;34m[\u001b[0m\u001b[0max\u001b[0m\u001b[0;34m+\u001b[0m\u001b[0;36m1\u001b[0m\u001b[0;34m:\u001b[0m\u001b[0;34m]\u001b[0m\u001b[0;34m\u001b[0m\u001b[0;34m\u001b[0m\u001b[0m\n",
      "\u001b[0;31mTypeError\u001b[0m: object of type 'int' has no len()"
     ]
    }
   ],
   "source": [
    "# flow = MaskedAffineCoupling(Transform, mask_type='channel_wise')\n",
    "flow = MaskedAffineCoupling(ConditionedTransform, mask_type='checkerboard')\n",
    "\n",
    "init_fun, forward, inverse = flow\n",
    "\n",
    "input_shape = x.shape[1:]\n",
    "condition_shape = ()\n",
    "cond = ()\n",
    "\n",
    "names, output_shape, params, static_params = init_fun( key, input_shape, condition_shape )\n",
    "\n",
    "# actnorm_names = [ 'glow1_act_norm', 'glow2_act_norm' ]\n",
    "# params = actnorm_init( x, actnorm_names, names, params, static_params, forward )"
   ]
  },
  {
   "cell_type": "code",
   "execution_count": null,
   "metadata": {
    "scrolled": false
   },
   "outputs": [],
   "source": [
    "flow_test( flow, x[:3], key )"
   ]
  },
  {
   "cell_type": "code",
   "execution_count": null,
   "metadata": {},
   "outputs": [],
   "source": []
  },
  {
   "cell_type": "code",
   "execution_count": null,
   "metadata": {},
   "outputs": [],
   "source": []
  },
  {
   "cell_type": "code",
   "execution_count": null,
   "metadata": {},
   "outputs": [],
   "source": []
  }
 ],
 "metadata": {
  "kernelspec": {
   "display_name": "Python 3",
   "language": "python",
   "name": "python3"
  },
  "language_info": {
   "codemirror_mode": {
    "name": "ipython",
    "version": 3
   },
   "file_extension": ".py",
   "mimetype": "text/x-python",
   "name": "python",
   "nbconvert_exporter": "python",
   "pygments_lexer": "ipython3",
   "version": "3.7.7"
  }
 },
 "nbformat": 4,
 "nbformat_minor": 2
}
