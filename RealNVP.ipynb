{
 "cells": [
  {
   "cell_type": "code",
   "execution_count": 1,
   "metadata": {},
   "outputs": [
    {
     "data": {
      "text/html": [
       "<style>.container { width:100% !important; }</style>"
      ],
      "text/plain": [
       "<IPython.core.display.HTML object>"
      ]
     },
     "metadata": {},
     "output_type": "display_data"
    }
   ],
   "source": [
    "from IPython.core.display import display, HTML\n",
    "display(HTML(\"<style>.container { width:100% !important; }</style>\"))\n",
    "%load_ext autoreload\n",
    "%autoreload 2"
   ]
  },
  {
   "cell_type": "code",
   "execution_count": 2,
   "metadata": {},
   "outputs": [],
   "source": [
    "from tqdm.notebook import tnrange, tqdm\n",
    "from jax import random, vmap, jit, value_and_grad\n",
    "from jax.experimental import optimizers, stax\n",
    "import jax.numpy as np\n",
    "import staxplusplus as spp\n",
    "from normalizing_flows import *\n",
    "from util import *\n",
    "import matplotlib.pyplot as plt\n",
    "from datasets import get_cifar10_data, get_mnist_data"
   ]
  },
  {
   "cell_type": "code",
   "execution_count": 3,
   "metadata": {},
   "outputs": [],
   "source": [
    "from datasets import get_celeb_dataset"
   ]
  },
  {
   "cell_type": "code",
   "execution_count": 5,
   "metadata": {},
   "outputs": [
    {
     "data": {
      "application/vnd.jupyter.widget-view+json": {
       "model_id": "7df732a99f734d25b738e6e524a6d581",
       "version_major": 2,
       "version_minor": 0
      },
      "text/plain": [
       "HBox(children=(FloatProgress(value=0.0, max=10000.0), HTML(value='')))"
      ]
     },
     "metadata": {},
     "output_type": "display_data"
    },
    {
     "name": "stdout",
     "output_type": "stream",
     "text": [
      "\n"
     ]
    }
   ],
   "source": [
    "quantize_level_bits = 2\n",
    "x_train = get_celeb_dataset(downsize=True, quantize_level_bits=quantize_level_bits)"
   ]
  },
  {
   "cell_type": "markdown",
   "metadata": {},
   "source": [
    "# Build the RealNVP Model"
   ]
  },
  {
   "cell_type": "code",
   "execution_count": 6,
   "metadata": {},
   "outputs": [],
   "source": [
    "def ResidualBlock(n_channels, name_prefix=''):\n",
    "    network = spp.sequential(spp.WeightNormConv(n_channels, filter_shape=(1, 1), padding=((0, 0), (0, 0)), name='%s_wn0'%name_prefix),\n",
    "                             spp.Relu(name='%s_relu0'%name_prefix), \n",
    "                             spp.WeightNormConv(n_channels, filter_shape=(3, 3), padding=((1, 1), (1, 1)), name='%s_wn1'%name_prefix),\n",
    "                             spp.Relu(name='%s_relu1'%name_prefix),\n",
    "                             spp.WeightNormConv(n_channels, filter_shape=(1, 1), padding=((0, 0), (0, 0)), name='%s_wn2'%name_prefix))\n",
    "    return spp.Residual(network)\n",
    "\n",
    "def ResNet(out_shape, n_filters=128, n_blocks=8, name_prefix=''):\n",
    "    height, width, channel = out_shape\n",
    "\n",
    "    res_blocks = [ResidualBlock(n_filters, name_prefix='%s_res_%d'%(name_prefix, i)) for i in range(n_blocks)]\n",
    "\n",
    "    network = spp.sequential(spp.WeightNormConv(n_filters, filter_shape=(3, 3), padding=((1, 1), (1, 1)), name='%s_wn0'%name_prefix),\n",
    "                             spp.Relu(name='%s_relu0'%(name_prefix)),\n",
    "                             *res_blocks,\n",
    "                             spp.Relu(name='%s_relu1'%(name_prefix)),\n",
    "                             spp.WeightNormConv(2*channel, filter_shape=(3, 3), padding=((1, 1), (1, 1)), name='%s_wn1'%name_prefix))\n",
    "\n",
    "    return spp.sequential(network, spp.Split(2, axis=-1), spp.parallel(spp.Identity(), spp.Tanh()))\n",
    "\n",
    "def RealNVP():\n",
    "    \n",
    "    checker_transforms1 = sequential_flow(MaskedAffineCoupling(partial(ResNet, \n",
    "                                                                       name_prefix='AC_0'), \n",
    "                                                                       mask_type='checkerboard', \n",
    "                                                                       top_left_zero=False),\n",
    "                                          ActNorm(name='an_0'),\n",
    "                                          MaskedAffineCoupling(partial(ResNet, \n",
    "                                                                       name_prefix='AC_1'), \n",
    "                                                                       mask_type='checkerboard', \n",
    "                                                                       top_left_zero=True),\n",
    "                                          ActNorm(name='an_1'),\n",
    "                                          MaskedAffineCoupling(partial(ResNet, \n",
    "                                                                       name_prefix='AC_2'), \n",
    "                                                                       mask_type='checkerboard', \n",
    "                                                                       top_left_zero=False),\n",
    "                                          ActNorm(name='an_2'),\n",
    "                                          MaskedAffineCoupling(partial(ResNet, \n",
    "                                                                       name_prefix='AC_3'), \n",
    "                                                                       mask_type='checkerboard', \n",
    "                                                                       top_left_zero=True),\n",
    "                                          ActNorm(name='an_3'))\n",
    "    \n",
    "    channel_transforms = sequential_flow(MaskedAffineCoupling(partial(ResNet, \n",
    "                                                                      name_prefix='AC_4'), \n",
    "                                                                      mask_type='channel_wise'),\n",
    "                                         Reverse(),\n",
    "                                         ActNorm(name='an_4'),\n",
    "                                         MaskedAffineCoupling(partial(ResNet, \n",
    "                                                                      name_prefix='AC_5'), \n",
    "                                                                      mask_type='channel_wise'),\n",
    "                                         Reverse(),\n",
    "                                         ActNorm(name='an_5'),\n",
    "                                         MaskedAffineCoupling(partial(ResNet, \n",
    "                                                                      name_prefix='AC_6'), \n",
    "                                                                      mask_type='channel_wise'))\n",
    "    \n",
    "    checker_transforms2 = sequential_flow(MaskedAffineCoupling(partial(ResNet, \n",
    "                                                                       name_prefix='AC_7'), \n",
    "                                                                       mask_type='checkerboard', \n",
    "                                                                       top_left_zero=False),\n",
    "                                          ActNorm(name='an_6'),\n",
    "                                          MaskedAffineCoupling(partial(ResNet, \n",
    "                                                                       name_prefix='AC_8'), \n",
    "                                                                       mask_type='checkerboard', \n",
    "                                                                       top_left_zero=True),\n",
    "                                          ActNorm(name='an_7'),\n",
    "                                          MaskedAffineCoupling(partial(ResNet, \n",
    "                                                                       name_prefix='AC_9'), \n",
    "                                                                       mask_type='checkerboard', \n",
    "                                                                       top_left_zero=False))\n",
    "\n",
    "    real_nvp = sequential_flow(Dequantization(scale=2**quantize_level_bits),\n",
    "                               Logit(),\n",
    "                               checker_transforms1, \n",
    "                               CheckerboardSqueeze(), \n",
    "                               channel_transforms, \n",
    "                               CheckerboardUnSqueeze(), \n",
    "                               checker_transforms2,\n",
    "                               UnitGaussianPrior(axis=(-3, -2, -1)))\n",
    "    return real_nvp"
   ]
  },
  {
   "cell_type": "markdown",
   "metadata": {},
   "source": [
    "# Initialize the model"
   ]
  },
  {
   "cell_type": "code",
   "execution_count": 7,
   "metadata": {},
   "outputs": [
    {
     "data": {
      "text/plain": [
       "(30, 30, 3)"
      ]
     },
     "execution_count": 7,
     "metadata": {},
     "output_type": "execute_result"
    }
   ],
   "source": [
    "init_fun, forward, inverse = RealNVP()\n",
    "\n",
    "key = random.PRNGKey(0)\n",
    "names, output_shape, params, state = init_fun(key, x_train.shape[1:], ())\n",
    "output_shape"
   ]
  },
  {
   "cell_type": "code",
   "execution_count": null,
   "metadata": {
    "scrolled": true
   },
   "outputs": [
    {
     "data": {
      "application/vnd.jupyter.widget-view+json": {
       "model_id": "a14dc71a448c4d3c9fd2d28ef293db0b",
       "version_major": 2,
       "version_minor": 0
      },
      "text/plain": [
       "HBox(children=(FloatProgress(value=0.0), HTML(value='')))"
      ]
     },
     "metadata": {},
     "output_type": "display_data"
    }
   ],
   "source": [
    "actnorm_names = ['an_%d'%(i) for i in range(8)]\n",
    "actnorm_names = ['an_6']\n",
    "\n",
    "batch_size = 2\n",
    "seed_steps = 100\n",
    "flat_params, unflatten = ravel_pytree(params)\n",
    "for i in tnrange(seed_steps):\n",
    "    key, *keys = random.split(key, 3)\n",
    "    \n",
    "    # Get the next batch of data\n",
    "    batch_idx = random.randint(keys[0], (batch_size,), minval=0, maxval=x_train.shape[0])\n",
    "    x_batch = x_train[batch_idx,:]\n",
    "    \n",
    "    # Compute the seeded parameters\n",
    "    new_params = flow_data_dependent_init(x_batch, actnorm_names, names, params, state, forward, (), 'actnorm_seed', key=key)\n",
    "\n",
    "    # Compute a running mean of the parameters\n",
    "    new_flat_params, _ = ravel_pytree(new_params)\n",
    "    flat_params = i/(i + 1)*flat_params + new_flat_params/(i + 1)\n",
    "    params = unflatten(flat_params)"
   ]
  },
  {
   "cell_type": "markdown",
   "metadata": {},
   "source": [
    "# Create the loss function and optimizer"
   ]
  },
  {
   "cell_type": "code",
   "execution_count": null,
   "metadata": {},
   "outputs": [],
   "source": [
    "@jit\n",
    "def nll(params, state, x, **kwargs):\n",
    "    cond = ()\n",
    "    log_px, z, updated_state = forward(params, state, np.zeros(x.shape[0]), x, cond, **kwargs)\n",
    "    flat_params, _ = ravel_pytree(params)\n",
    "    return -np.mean(log_px) + 0.005*np.linalg.norm(flat_params), updated_state\n",
    "\n",
    "# Create the gradient function\n",
    "valgrad = value_and_grad(nll, has_aux=True)\n",
    "valgrad = jit(valgrad)"
   ]
  },
  {
   "cell_type": "code",
   "execution_count": null,
   "metadata": {},
   "outputs": [],
   "source": [
    "opt_init, opt_update, get_params = optimizers.adam(0.0005)\n",
    "opt_update = jit(opt_update)\n",
    "opt_state = opt_init(params)"
   ]
  },
  {
   "cell_type": "markdown",
   "metadata": {},
   "source": [
    "# Train"
   ]
  },
  {
   "cell_type": "code",
   "execution_count": null,
   "metadata": {
    "scrolled": true
   },
   "outputs": [],
   "source": [
    "batch_size = 16\n",
    "\n",
    "losses = []\n",
    "pbar = tnrange(50000)\n",
    "for i in pbar:\n",
    "    key, *keys = random.split(key, 3)\n",
    "    \n",
    "    batch_idx = random.randint(keys[0], (batch_size,), minval=0, maxval=x_train.shape[0])\n",
    "    x_batch = x_train[batch_idx,:]\n",
    "    \n",
    "    params = get_params(opt_state)\n",
    "    (val, state), grad = valgrad(params, state, x_batch, key=keys[1], test=TRAIN)\n",
    "    if(np.isnan(val) or np.any(np.isnan(ravel_pytree(grad)[0]))):\n",
    "        assert 0, 'NaN loss'\n",
    "    val = val/np.prod(x_train.shape[1:])\n",
    "    opt_state = opt_update(i, grad, opt_state)\n",
    "    \n",
    "    losses.append(val)\n",
    "    pbar.set_description('Negative Log Likelihood: %5.3f'%(val))"
   ]
  },
  {
   "cell_type": "markdown",
   "metadata": {},
   "source": [
    "# Optionally, debug"
   ]
  },
  {
   "cell_type": "code",
   "execution_count": null,
   "metadata": {},
   "outputs": [],
   "source": [
    "# name_leaves, name_tree = tree_flatten(names)\n",
    "# param_leaves = name_tree.flatten_up_to(params)\n",
    "# grad_leaves = name_tree.flatten_up_to(grad)\n",
    "\n",
    "# for n, p, g in zip(name_leaves, param_leaves, grad_leaves):\n",
    "#     print(n, p)"
   ]
  },
  {
   "cell_type": "markdown",
   "metadata": {},
   "source": [
    "# Check the losses"
   ]
  },
  {
   "cell_type": "code",
   "execution_count": null,
   "metadata": {},
   "outputs": [],
   "source": [
    "plt.plot(losses)"
   ]
  },
  {
   "cell_type": "markdown",
   "metadata": {},
   "source": [
    "# Generate Samples"
   ]
  },
  {
   "cell_type": "code",
   "execution_count": null,
   "metadata": {},
   "outputs": [],
   "source": [
    "n_samples = 2\n",
    "z = random.normal(key, (n_samples,) + x_train.shape[1:])\n",
    "_, fz, _ = inverse(params, state, np.zeros(n_samples), z, (), test=TEST)\n",
    "fz /= (2.0**quantize_level_bits) # Put the image (mostly) between 0 and 1\n",
    "\n",
    "n_cols = 4\n",
    "n_rows = int(np.ceil(n_samples/n_cols))\n",
    "\n",
    "fig, axes = plt.subplots(n_rows, n_cols); axes = axes.ravel()\n",
    "fig.set_size_inches(7*n_cols, 7*n_rows)\n",
    "\n",
    "for i, ax in enumerate(axes):\n",
    "    ax.imshow(fz[i])"
   ]
  },
  {
   "cell_type": "code",
   "execution_count": null,
   "metadata": {},
   "outputs": [],
   "source": []
  },
  {
   "cell_type": "code",
   "execution_count": null,
   "metadata": {},
   "outputs": [],
   "source": []
  },
  {
   "cell_type": "code",
   "execution_count": null,
   "metadata": {},
   "outputs": [],
   "source": []
  }
 ],
 "metadata": {
  "kernelspec": {
   "display_name": "Python 3",
   "language": "python",
   "name": "python3"
  },
  "language_info": {
   "codemirror_mode": {
    "name": "ipython",
    "version": 3
   },
   "file_extension": ".py",
   "mimetype": "text/x-python",
   "name": "python",
   "nbconvert_exporter": "python",
   "pygments_lexer": "ipython3",
   "version": "3.7.6"
  }
 },
 "nbformat": 4,
 "nbformat_minor": 4
}
