{
 "cells": [
  {
   "cell_type": "code",
   "execution_count": 1,
   "metadata": {},
   "outputs": [
    {
     "data": {
      "text/html": [
       "<style>.container { width:100% !important; }</style>"
      ],
      "text/plain": [
       "<IPython.core.display.HTML object>"
      ]
     },
     "metadata": {},
     "output_type": "display_data"
    }
   ],
   "source": [
    "from IPython.core.display import display, HTML\n",
    "display(HTML(\"<style>.container { width:100% !important; }</style>\"))\n",
    "%load_ext autoreload\n",
    "%autoreload 2"
   ]
  },
  {
   "cell_type": "code",
   "execution_count": 2,
   "metadata": {},
   "outputs": [],
   "source": [
    "from tqdm.notebook import tnrange, tqdm\n",
    "from jax import random, vmap, jit, value_and_grad\n",
    "from jax.experimental import optimizers, stax\n",
    "import jax.numpy as np\n",
    "import staxplusplus as spp\n",
    "from normalizing_flows import *\n",
    "from util import *\n",
    "import matplotlib.pyplot as plt\n",
    "from datasets import get_cifar10_data, get_mnist_data"
   ]
  },
  {
   "cell_type": "code",
   "execution_count": 3,
   "metadata": {},
   "outputs": [],
   "source": [
    "x_train, y_train, x_test, y_test = get_cifar10_data()"
   ]
  },
  {
   "cell_type": "markdown",
   "metadata": {},
   "source": [
    "# Build the RealNVP Model"
   ]
  },
  {
   "cell_type": "code",
   "execution_count": 4,
   "metadata": {},
   "outputs": [],
   "source": [
    "# https://github.com/chrischute/real-nvp/blob/master/models/resnet/residual_block.py\n",
    "def ResidualBlock(n_channels):\n",
    "    network = spp.sequential(spp.BatchNorm(), \n",
    "                             spp.Relu(), \n",
    "                             spp.Conv(n_channels, filter_shape=(3, 3), padding=((1, 1), (1, 1))),\n",
    "                             spp.BatchNorm(),\n",
    "                             spp.Relu(),\n",
    "                             spp.Conv(n_channels, filter_shape=(3, 3), padding=((1, 1), (1, 1))))\n",
    "    return spp.Residual(network)"
   ]
  },
  {
   "cell_type": "code",
   "execution_count": 5,
   "metadata": {},
   "outputs": [],
   "source": [
    "# https://github.com/chrischute/real-nvp/blob/master/models/resnet/resnet.py\n",
    "def ResNet(n_mid_channels, n_out_channels, n_blocks, filter_shape, padding):\n",
    "    \n",
    "    skip_filter = (1, 1)\n",
    "    skip_padding = ((0, 0), (0, 0))\n",
    "    \n",
    "    out_filter = (1, 1)\n",
    "    out_padding = ((0, 0), (0, 0))\n",
    "    \n",
    "    block_gen = lambda :spp.sequential(ResidualBlock(n_mid_channels), \n",
    "                                       spp.Conv(n_mid_channels, filter_shape=skip_filter, padding=skip_padding))\n",
    "    \n",
    "    blocks = [block_gen() for _ in range(n_blocks)]\n",
    "    \n",
    "    middle_blocks = spp.sequential(spp.FanOut(n_blocks), spp.parallel(*blocks), spp.FanInSum())\n",
    "    \n",
    "    network = spp.sequential(spp.BatchNorm(),\n",
    "                             spp.FanOut(2),\n",
    "                             spp.parallel(spp.Identity(),\n",
    "                                          spp.ScalarMultiply(-1.0)),\n",
    "                             spp.FanInConcat(),\n",
    "                             spp.Relu(),\n",
    "                             spp.Conv(n_mid_channels, filter_shape=filter_shape, padding=padding),\n",
    "                             spp.FanOut(2),\n",
    "                             spp.parallel(spp.Conv(n_mid_channels, filter_shape=filter_shape, padding=padding),\n",
    "                                          middle_blocks),\n",
    "                             spp.FanInSum(),\n",
    "                             spp.BatchNorm(),\n",
    "                             spp.Relu(),\n",
    "                             spp.FanOut(2),\n",
    "                             spp.parallel(spp.Conv(n_out_channels, filter_shape=out_filter, padding=out_padding),\n",
    "                                          spp.Conv(n_out_channels, filter_shape=out_filter, padding=out_padding)))\n",
    "    \n",
    "    return network"
   ]
  },
  {
   "cell_type": "code",
   "execution_count": 6,
   "metadata": {},
   "outputs": [],
   "source": [
    "# https://github.com/chrischute/real-nvp/blob/master/models/real_nvp/coupling_layer.py\n",
    "def CouplingLayer(n_mid_channels, n_blocks):\n",
    "    \n",
    "    def Transform(out_shape):\n",
    "        n_out_channels = out_shape[-1]\n",
    "        return ResNet(n_mid_channels, n_out_channels, n_blocks, filter_shape=(3, 3), padding=((1, 1), (1, 1)))\n",
    "    \n",
    "    return sequential_flow(CheckerboardSqueeze(), AffineCoupling(Transform), CheckerboardUnSqueeze(), Reverse() )"
   ]
  },
  {
   "cell_type": "code",
   "execution_count": 7,
   "metadata": {},
   "outputs": [],
   "source": [
    "# https://github.com/chrischute/real-nvp/blob/master/models/real_nvp/real_nvp.py\n",
    "def RealNVP(n_mid_channels, n_blocks):\n",
    "      return sequential_flow(Logit(),\n",
    "                             CouplingLayer(n_mid_channels, n_blocks),\n",
    "                             CheckerboardFactor(2),\n",
    "                             factored_flow(Identity(),\n",
    "                                           sequential_flow(CouplingLayer(n_mid_channels, n_blocks),\n",
    "                                                           CheckerboardFactor(2),\n",
    "                                                           factored_flow(Identity(),\n",
    "                                                                         CouplingLayer(n_mid_channels, n_blocks)),\n",
    "                                                           CheckerboardCombine(2))),\n",
    "                             CheckerboardCombine(2),\n",
    "                             CouplingLayer(n_mid_channels, n_blocks),\n",
    "                             CheckerboardFactor(2),\n",
    "                             factored_flow(Identity(),\n",
    "                                           sequential_flow(CouplingLayer(n_mid_channels, n_blocks),\n",
    "                                                           CheckerboardFactor(2),\n",
    "                                                           factored_flow(Identity(),\n",
    "                                                                         CouplingLayer(n_mid_channels, n_blocks)),\n",
    "                                                           CheckerboardCombine(2))),\n",
    "                             CheckerboardCombine(2),\n",
    "                             CouplingLayer(n_mid_channels, n_blocks),\n",
    "                             CouplingLayer(n_mid_channels, n_blocks),\n",
    "                             UnitGaussianPrior(axis=(-3, -2, -1)))"
   ]
  },
  {
   "cell_type": "markdown",
   "metadata": {},
   "source": [
    "# Initialize the model"
   ]
  },
  {
   "cell_type": "code",
   "execution_count": 8,
   "metadata": {},
   "outputs": [
    {
     "data": {
      "text/plain": [
       "(32, 32, 3)"
      ]
     },
     "execution_count": 8,
     "metadata": {},
     "output_type": "execute_result"
    }
   ],
   "source": [
    "init_fun, forward, inverse = RealNVP(3, 3)\n",
    "\n",
    "key = random.PRNGKey(0)\n",
    "name, output_shape, params, state = init_fun(key, x_train.shape[1:], ())\n",
    "output_shape"
   ]
  },
  {
   "cell_type": "markdown",
   "metadata": {},
   "source": [
    "# Create the loss function and optimizer"
   ]
  },
  {
   "cell_type": "code",
   "execution_count": 9,
   "metadata": {},
   "outputs": [],
   "source": [
    "@jit\n",
    "def nll(params, state, x, **kwargs):\n",
    "    cond = ()\n",
    "    log_px, z, updated_state = forward(params, state, np.zeros(x.shape[0]), x, cond, **kwargs)\n",
    "    flat_params, _ = ravel_pytree(params)\n",
    "    return -np.mean(log_px) + 0.05*np.linalg.norm(flat_params), updated_state\n",
    "\n",
    "# Create the gradient function\n",
    "valgrad = value_and_grad(nll, has_aux=True)\n",
    "valgrad = jit(valgrad)"
   ]
  },
  {
   "cell_type": "code",
   "execution_count": 10,
   "metadata": {},
   "outputs": [],
   "source": [
    "opt_init, opt_update, get_params = optimizers.adam(0.0001)\n",
    "opt_update = jit(opt_update)\n",
    "opt_state = opt_init(params)"
   ]
  },
  {
   "cell_type": "markdown",
   "metadata": {},
   "source": [
    "# Train"
   ]
  },
  {
   "cell_type": "code",
   "execution_count": 11,
   "metadata": {
    "scrolled": true
   },
   "outputs": [
    {
     "data": {
      "application/vnd.jupyter.widget-view+json": {
       "model_id": "5b134e93014a47b6bd6b9d1b8e789cb8",
       "version_major": 2,
       "version_minor": 0
      },
      "text/plain": [
       "HBox(children=(FloatProgress(value=0.0, max=50000.0), HTML(value='')))"
      ]
     },
     "metadata": {},
     "output_type": "display_data"
    },
    {
     "name": "stdout",
     "output_type": "stream",
     "text": [
      "\n"
     ]
    }
   ],
   "source": [
    "batch_size = 64\n",
    "\n",
    "losses = []\n",
    "pbar = tnrange(50000)\n",
    "for i in pbar:\n",
    "    key, *keys = random.split(key, 3)\n",
    "    \n",
    "    batch_idx = random.randint(keys[0], (batch_size,), minval=0, maxval=x_train.shape[0])\n",
    "    x_batch = x_train[batch_idx,:]\n",
    "    \n",
    "    params = get_params(opt_state)\n",
    "    (val, state), grad = valgrad(params, state, x_batch, key=keys[1], test=TRAIN)\n",
    "    opt_state = opt_update(i, grad, opt_state)\n",
    "    \n",
    "    losses.append(val)\n",
    "    pbar.set_description('Negative Log Likelihood: %5.3f'%(val))"
   ]
  },
  {
   "cell_type": "code",
   "execution_count": 12,
   "metadata": {},
   "outputs": [
    {
     "data": {
      "text/plain": [
       "[<matplotlib.lines.Line2D at 0x7fa2874e2b90>]"
      ]
     },
     "execution_count": 12,
     "metadata": {},
     "output_type": "execute_result"
    },
    {
     "data": {
      "image/png": "[encoded data removed]",
      "text/plain": [
       "<Figure size 432x288 with 1 Axes>"
      ]
     },
     "metadata": {
      "needs_background": "light"
     },
     "output_type": "display_data"
    }
   ],
   "source": [
    "plt.plot(losses[1000:])"
   ]
  },
  {
   "cell_type": "markdown",
   "metadata": {},
   "source": [
    "# Generate Samples"
   ]
  },
  {
   "cell_type": "code",
   "execution_count": 13,
   "metadata": {},
   "outputs": [],
   "source": [
    "n_samples = 2\n",
    "z = random.normal(key, (n_samples,) + x_train.shape[1:])\n",
    "_, fz, _ = inverse(params, state, np.zeros(n_samples), z, (), test=TEST)"
   ]
  },
  {
   "cell_type": "code",
   "execution_count": 14,
   "metadata": {},
   "outputs": [
    {
     "data": {
      "text/plain": [
       "<matplotlib.image.AxesImage at 0x7fa56c1586d0>"
      ]
     },
     "execution_count": 14,
     "metadata": {},
     "output_type": "execute_result"
    },
    {
     "data": {
      "image/png": "[encoded data removed]",
      "text/plain": [
       "<Figure size 432x288 with 1 Axes>"
      ]
     },
     "metadata": {
      "needs_background": "light"
     },
     "output_type": "display_data"
    }
   ],
   "source": [
    "plt.imshow(fz[0])"
   ]
  },
  {
   "cell_type": "code",
   "execution_count": null,
   "metadata": {},
   "outputs": [],
   "source": []
  }
 ],
 "metadata": {
  "kernelspec": {
   "display_name": "Python 3",
   "language": "python",
   "name": "python3"
  },
  "language_info": {
   "codemirror_mode": {
    "name": "ipython",
    "version": 3
   },
   "file_extension": ".py",
   "mimetype": "text/x-python",
   "name": "python",
   "nbconvert_exporter": "python",
   "pygments_lexer": "ipython3",
   "version": "3.7.6"
  }
 },
 "nbformat": 4,
 "nbformat_minor": 4
}
