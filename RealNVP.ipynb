{
 "cells": [
  {
   "cell_type": "code",
   "execution_count": 1,
   "metadata": {},
   "outputs": [
    {
     "data": {
      "text/html": [
       "<style>.container { width:100% !important; }</style>"
      ],
      "text/plain": [
       "<IPython.core.display.HTML object>"
      ]
     },
     "metadata": {},
     "output_type": "display_data"
    }
   ],
   "source": [
    "from IPython.core.display import display, HTML\n",
    "display(HTML(\"<style>.container { width:100% !important; }</style>\"))\n",
    "%load_ext autoreload\n",
    "%autoreload 2"
   ]
  },
  {
   "cell_type": "code",
   "execution_count": 2,
   "metadata": {},
   "outputs": [],
   "source": [
    "from tqdm.notebook import tnrange, tqdm\n",
    "from jax import random, vmap, jit, value_and_grad\n",
    "from jax.experimental import optimizers, stax\n",
    "import jax.numpy as np\n",
    "import staxplusplus as spp\n",
    "from normalizing_flows import *\n",
    "import matplotlib.pyplot as plt\n",
    "from datasets import *"
   ]
  },
  {
   "cell_type": "code",
   "execution_count": 3,
   "metadata": {},
   "outputs": [],
   "source": [
    "from datasets import get_celeb_dataset"
   ]
  },
  {
   "cell_type": "code",
   "execution_count": 4,
   "metadata": {},
   "outputs": [
    {
     "data": {
      "application/vnd.jupyter.widget-view+json": {
       "model_id": "1215c621af9b4334a7cead0d6fc1cb84",
       "version_major": 2,
       "version_minor": 0
      },
      "text/plain": [
       "HBox(children=(FloatProgress(value=0.0, max=1000.0), HTML(value='')))"
      ]
     },
     "metadata": {},
     "output_type": "display_data"
    },
    {
     "name": "stdout",
     "output_type": "stream",
     "text": [
      "\n"
     ]
    },
    {
     "data": {
      "text/plain": [
       "(1000, 32, 32, 3)"
      ]
     },
     "execution_count": 4,
     "metadata": {},
     "output_type": "execute_result"
    }
   ],
   "source": [
    "quantize_level_bits = 3\n",
    "x_train = get_celeb_dataset(quantize_level_bits=quantize_level_bits, n_images=1000)\n",
    "# x_train, train_labels, test_images, test_labels = get_cifar10_data(quantize_level_bits=quantize_level_bits)\n",
    "x_train.shape"
   ]
  },
  {
   "cell_type": "code",
   "execution_count": 5,
   "metadata": {},
   "outputs": [
    {
     "data": {
      "text/plain": [
       "<matplotlib.image.AxesImage at 0x7ff995a7cc90>"
      ]
     },
     "execution_count": 5,
     "metadata": {},
     "output_type": "execute_result"
    },
    {
     "data": {
      "image/png": "[encoded data removed]",
      "text/plain": [
       "<Figure size 432x288 with 1 Axes>"
      ]
     },
     "metadata": {
      "needs_background": "light"
     },
     "output_type": "display_data"
    }
   ],
   "source": [
    "plt.imshow(x_train[1]/(2.0**quantize_level_bits))"
   ]
  },
  {
   "cell_type": "markdown",
   "metadata": {},
   "source": [
    "# Build the RealNVP Model"
   ]
  },
  {
   "cell_type": "code",
   "execution_count": 15,
   "metadata": {},
   "outputs": [],
   "source": [
    "import jax.nn.initializers\n",
    "\n",
    "def Transform(out_shape, n_hidden_layers=4, layer_size=1024):\n",
    "    out_dim = out_shape[-1]\n",
    "    # Build the s and t networks that xb will be fed into\n",
    "    layer_sizes = [layer_size for _ in range(n_hidden_layers)]\n",
    "    log_s_out = spp.sequential(spp.Dense(out_dim), spp.Tanh())\n",
    "    t_out = spp.sequential(spp.Dense(out_dim))\n",
    "    dense_layers = [spp.Dense(layer_size), spp.Relu()]*n_hidden_layers\n",
    "    coupling_param_architecture = spp.sequential(*dense_layers, spp.FanOut(2), spp.parallel(log_s_out, t_out))\n",
    "\n",
    "    # Split x into xa, xb and feed xb into its path\n",
    "    return coupling_param_architecture\n",
    "\n",
    "def ResidualBlock(n_channels, name_prefix=''):\n",
    "    \n",
    "#     conv = spp.WeightNormConv\n",
    "    conv = spp.Conv\n",
    "    \n",
    "    network = spp.sequential(conv(n_channels, filter_shape=(1, 1), padding=((0, 0), (0, 0)), name='%s_wn0'%name_prefix),\n",
    "                             spp.Relu(name='%s_relu0'%name_prefix), \n",
    "                             conv(n_channels, filter_shape=(3, 3), padding=((1, 1), (1, 1)), name='%s_wn1'%name_prefix),\n",
    "                             spp.Relu(name='%s_relu1'%name_prefix),\n",
    "                             conv(n_channels, filter_shape=(1, 1), padding=((0, 0), (0, 0)), name='%s_wn2'%name_prefix))\n",
    "    return spp.Residual(network)\n",
    "\n",
    "def ResNet(out_shape, n_filters=32, n_blocks=6, name_prefix=''):\n",
    "    height, width, channel = out_shape\n",
    "\n",
    "#     conv = spp.WeightNormConv\n",
    "    conv = spp.Conv\n",
    "    \n",
    "    res_blocks = [ResidualBlock(n_filters, name_prefix='%s_res_%d'%(name_prefix, i)) for i in range(n_blocks)]\n",
    "\n",
    "    network = spp.sequential(conv(n_filters, filter_shape=(3, 3), padding=((1, 1), (1, 1)), name='%s_wn0'%name_prefix),\n",
    "                             spp.Relu(name='%s_relu0'%(name_prefix)),\n",
    "                             *res_blocks,\n",
    "                             spp.Relu(name='%s_relu1'%(name_prefix)),\n",
    "                             conv(2*channel, filter_shape=(3, 3), padding=((1, 1), (1, 1)), name='%s_wn1'%name_prefix, b_init=jax.nn.initializers.zeros))\n",
    "\n",
    "    return spp.sequential(network, spp.Split(2, axis=-1), spp.parallel(spp.Tanh(), spp.Identity()))\n",
    "\n",
    "def RealNVP(name_prefix=''):\n",
    "    \n",
    "    checker_transforms1 = sequential_flow(MaskedAffineCoupling(partial(ResNet, name_prefix='%s_AC_0'%(name_prefix)), \n",
    "                                                               mask_type='checkerboard', \n",
    "                                                               top_left_zero=False,\n",
    "                                                               name='%s_coupling_0'%(name_prefix)),\n",
    "                                          ActNorm(name='%s_an_0'%(name_prefix)),\n",
    "                                          MaskedAffineCoupling(partial(ResNet, name_prefix='%s_AC_1'%(name_prefix)), \n",
    "                                                               mask_type='checkerboard', \n",
    "                                                               top_left_zero=True,\n",
    "                                                               name='%s_coupling_1'%(name_prefix)),\n",
    "                                          ActNorm(name='%s_an_1'%(name_prefix)),\n",
    "                                          MaskedAffineCoupling(partial(ResNet, name_prefix='%s_AC_2'%(name_prefix)), \n",
    "                                                               mask_type='checkerboard', \n",
    "                                                               top_left_zero=False,\n",
    "                                                               name='%s_coupling_2'%(name_prefix)),\n",
    "                                          ActNorm(name='%s_an_2'%(name_prefix)),\n",
    "                                          MaskedAffineCoupling(partial(ResNet, name_prefix='%s_AC_3'%(name_prefix)), \n",
    "                                                               mask_type='checkerboard', \n",
    "                                                               top_left_zero=True,\n",
    "                                                               name='%s_coupling_3'%(name_prefix)),\n",
    "                                          ActNorm(name='%s_an_3'%(name_prefix)))\n",
    "    \n",
    "    channel_transforms = sequential_flow(MaskedAffineCoupling(partial(ResNet, name_prefix='%s_AC_4'%(name_prefix)), \n",
    "                                                              mask_type='channel_wise',\n",
    "                                                              name='%s_coupling_4'%(name_prefix)),\n",
    "                                         Reverse(),\n",
    "                                         ActNorm(name='%s_an_4'%(name_prefix)),\n",
    "                                         MaskedAffineCoupling(partial(ResNet, name_prefix='%s_AC_5'%(name_prefix)), \n",
    "                                                              mask_type='channel_wise',\n",
    "                                                              name='%s_coupling_5'%(name_prefix)),\n",
    "                                         Reverse(),\n",
    "                                         ActNorm(name='%s_an_5'%(name_prefix)),\n",
    "                                         MaskedAffineCoupling(partial(ResNet, name_prefix='%s_AC_6'%(name_prefix)), \n",
    "                                                              mask_type='channel_wise',\n",
    "                                                              name='%s_coupling_6'%(name_prefix)),\n",
    "                                         ActNorm(name='%s_an_9'%(name_prefix)))\n",
    "    \n",
    "    checker_transforms2 = sequential_flow(MaskedAffineCoupling(partial(ResNet, name_prefix='%s_AC_7'%(name_prefix)), \n",
    "                                                               mask_type='checkerboard', \n",
    "                                                               top_left_zero=False,\n",
    "                                                               name='%s_coupling_7'%(name_prefix)),\n",
    "                                          ActNorm(name='%s_an_6'%(name_prefix)),\n",
    "                                          MaskedAffineCoupling(partial(ResNet, name_prefix='%s_AC_8'%(name_prefix)), \n",
    "                                                               mask_type='checkerboard', \n",
    "                                                               top_left_zero=True,\n",
    "                                                               name='%s_coupling_8'%(name_prefix)),\n",
    "                                          ActNorm(name='%s_an_7'%(name_prefix)),\n",
    "                                          MaskedAffineCoupling(partial(ResNet, name_prefix='%s_AC_9'%(name_prefix)), \n",
    "                                                               mask_type='checkerboard', \n",
    "                                                               top_left_zero=False,\n",
    "                                                               name='%s_coupling_9'%(name_prefix)),\n",
    "                                          ActNorm(name='%s_an_8'%(name_prefix)))\n",
    "\n",
    "    real_nvp = sequential_flow(checker_transforms1, \n",
    "                               OnebyOneConv(),\n",
    "                               CheckerboardSqueeze(), \n",
    "                               OnebyOneConv(),\n",
    "                               channel_transforms, \n",
    "                               OnebyOneConv(),\n",
    "                               CheckerboardUnSqueeze(),\n",
    "                               checker_transforms2)\n",
    "\n",
    "    return real_nvp\n",
    "\n",
    "z_dim = 100\n",
    "\n",
    "def MultiScaleRealNVP():\n",
    "    \n",
    "    flow = sequential_flow(Dequantization(scale=2**quantize_level_bits), \n",
    "                           Logit(), \n",
    "                           RealNVP(name_prefix='realnvp_0'),\n",
    "                           CheckerboardFactor(2),\n",
    "                           factored_flow(sequential_flow(CheckerboardFactor(2),\n",
    "                                                         factored_flow(RealNVP(name_prefix='realnvp_1'),\n",
    "                                                                       sequential_flow(CheckerboardFactor(2),\n",
    "                                                                                       factored_flow(RealNVP(name_prefix='realnvp_2'),\n",
    "                                                                                                     Identity(), condition_on_results=False),\n",
    "                                                                                       CheckerboardCombine(2)), condition_on_results=False),\n",
    "                                                         CheckerboardCombine(2)),\n",
    "                                         Identity(), condition_on_results=False),\n",
    "                           CheckerboardCombine(2),\n",
    "#                            Reshape((np.prod(x_train.shape[1:]),)),\n",
    "#                            AffineGaussianPriorFullCov(z_dim))\n",
    "                           UnitGaussianPrior(axis=(-3, -2, -1)))\n",
    "    \n",
    "    return flow\n",
    "\n",
    "#     def gen_flow(n_coupling=4, n_dim_changes=8, start_dim=100, end_dim=600):\n",
    "#         get_layers = lambda j : [sequential_flow(MaskedAffineCoupling(Transform), ActNorm(name='an_%d'%(j+i)), Reverse()) for i in range(4)]\n",
    "    \n",
    "#         dims = np.linspace(start_dim, end_dim, n_dim_changes).astype(np.int32)\n",
    "#         flow = sequential_flow(*get_layers(0),\n",
    "#                                AffineGaussianPriorFullCov(start_dim))\n",
    "        \n",
    "#         for i, dim in enumerate(dims):\n",
    "#             if(i == 0):\n",
    "#                 continue\n",
    "#             flow = sequential_flow(*get_layers(n_coupling*i),\n",
    "#                                    TallAffine(flow, dim))\n",
    "    \n",
    "#         flow = sequential_flow(Dequantization(scale=2**quantize_level_bits), \n",
    "#                                Logit(), \n",
    "#                                Reshape((np.prod(x_train.shape[1:]),)),\n",
    "#                                TallAffine(flow, 600))\n",
    "#         return flow\n",
    "\n",
    "\n",
    "# #     flow = gen_flow()\n",
    "    \n",
    "# #     prior_flow = sequential_flow(*layers,\n",
    "# #                                  AffineGaussianPriorFullCov(z_dim))\n",
    "\n",
    "# #     flow = sequential_flow(Dequantization(scale=2**quantize_level_bits), \n",
    "# #                            Logit(), \n",
    "# #                            Reshape((np.prod(x_train.shape[1:]),)),\n",
    "# #                            TallAffine(prior_flow, z_dim))\n",
    "\n",
    "#     return flow"
   ]
  },
  {
   "cell_type": "markdown",
   "metadata": {},
   "source": [
    "# Initialize the model"
   ]
  },
  {
   "cell_type": "code",
   "execution_count": 16,
   "metadata": {
    "scrolled": false
   },
   "outputs": [
    {
     "data": {
      "text/plain": [
       "(32, 32, 3)"
      ]
     },
     "execution_count": 16,
     "metadata": {},
     "output_type": "execute_result"
    }
   ],
   "source": [
    "flow = MultiScaleRealNVP()\n",
    "init_fun, forward, inverse = flow\n",
    "\n",
    "key = random.PRNGKey(0)\n",
    "names, output_shape, params, state = init_fun(key, x_train.shape[1:], ())\n",
    "output_shape"
   ]
  },
  {
   "cell_type": "code",
   "execution_count": null,
   "metadata": {
    "scrolled": true
   },
   "outputs": [
    {
     "data": {
      "application/vnd.jupyter.widget-view+json": {
       "model_id": "0be34f48db1148b18ea7377d850afc50",
       "version_major": 2,
       "version_minor": 0
      },
      "text/plain": [
       "HBox(children=(FloatProgress(value=0.0, max=1500.0), HTML(value='')))"
      ]
     },
     "metadata": {},
     "output_type": "display_data"
    }
   ],
   "source": [
    "actnorm_names = [name for name in tree_flatten(names)[0] if 'an' in name]\n",
    "\n",
    "# batch_size = 256\n",
    "# seed_steps = 1000\n",
    "batch_size = 8\n",
    "seed_steps = 1500\n",
    "flat_params, unflatten = ravel_pytree(params)\n",
    "for i in tnrange(seed_steps):\n",
    "    key, *keys = random.split(key, 3)\n",
    "    \n",
    "    # Get the next batch of data\n",
    "    batch_idx = random.randint(keys[0], (batch_size,), minval=0, maxval=x_train.shape[0])\n",
    "    x_batch = x_train[batch_idx,:]\n",
    "    \n",
    "    # Compute the seeded parameters\n",
    "    new_params = flow_data_dependent_init(x_batch, actnorm_names, names, params, state, forward, (), 'actnorm_seed', key=key)\n",
    "\n",
    "    # Compute a running mean of the parameters\n",
    "    new_flat_params, _ = ravel_pytree(new_params)\n",
    "    flat_params = i/(i + 1)*flat_params + new_flat_params/(i + 1)\n",
    "    params = unflatten(flat_params)"
   ]
  },
  {
   "cell_type": "markdown",
   "metadata": {},
   "source": [
    "# Create the loss function and optimizer"
   ]
  },
  {
   "cell_type": "code",
   "execution_count": null,
   "metadata": {},
   "outputs": [],
   "source": [
    "@jit\n",
    "def nll(params, state, x, **kwargs):\n",
    "    cond = ()\n",
    "    log_px, z, updated_state = forward(params, state, np.zeros(x.shape[0]), x, cond, **kwargs)\n",
    "    return -np.mean(log_px), updated_state\n",
    "#     flat_params, _ = ravel_pytree(params)\n",
    "#     return -np.mean(log_px) + 0.005*np.linalg.norm(flat_params), updated_state\n",
    "\n",
    "# Create the gradient function\n",
    "valgrad = value_and_grad(nll, has_aux=True)\n",
    "valgrad = jit(valgrad)"
   ]
  },
  {
   "cell_type": "code",
   "execution_count": null,
   "metadata": {},
   "outputs": [],
   "source": [
    "opt_init, opt_update, get_params = optimizers.adam(0.0001)\n",
    "opt_update = jit(opt_update)\n",
    "opt_state = opt_init(params)\n",
    "\n",
    "losses = []"
   ]
  },
  {
   "cell_type": "markdown",
   "metadata": {},
   "source": [
    "# Train"
   ]
  },
  {
   "cell_type": "code",
   "execution_count": null,
   "metadata": {
    "scrolled": false
   },
   "outputs": [],
   "source": [
    "# batch_size = 256\n",
    "batch_size = 8\n",
    "\n",
    "pbar = tnrange(500000)\n",
    "for i in pbar:\n",
    "    key, *keys = random.split(key, 3)\n",
    "    \n",
    "    batch_idx = random.randint(keys[0], (batch_size,), minval=0, maxval=x_train.shape[0])\n",
    "    x_batch = x_train[batch_idx,:]\n",
    "    \n",
    "    params = get_params(opt_state)\n",
    "    (val, state), grad = valgrad(params, state, x_batch, key=keys[1], test=TRAIN)\n",
    "#     if(np.isnan(val) or np.any(np.isnan(ravel_pytree(grad)[0]))):\n",
    "#         assert 0, 'NaN loss'\n",
    "    val = val/np.prod(x_train.shape[1:])\n",
    "    opt_state = opt_update(i, grad, opt_state)\n",
    "    \n",
    "    losses.append(val)\n",
    "    pbar.set_description('Negative Log Likelihood: %5.3f'%(val))\n",
    "    \n",
    "    if(i%1000 == 0):\n",
    "        n_samples = 8\n",
    "        eval_key = random.PRNGKey(2)\n",
    "#         z = random.normal(eval_key, (n_samples, z_dim))*0.7\n",
    "        z = random.normal(eval_key, (n_samples,) + x_train.shape[1:])\n",
    "        _, fz, _ = inverse(params, state, np.zeros(n_samples), z, (), test=TEST)\n",
    "        fz /= (2.0**quantize_level_bits) # Put the image (mostly) between 0 and 1\n",
    "\n",
    "        n_cols = 8\n",
    "        n_rows = int(np.ceil(n_samples/n_cols))\n",
    "\n",
    "        fig, axes = plt.subplots(n_rows, n_cols); axes = axes.ravel()\n",
    "        fig.set_size_inches(2*n_cols, 2*n_rows)\n",
    "\n",
    "        for i, ax in enumerate(axes):\n",
    "            ax.imshow(fz[i])\n",
    "            \n",
    "        plt.show()"
   ]
  },
  {
   "cell_type": "code",
   "execution_count": null,
   "metadata": {},
   "outputs": [],
   "source": [
    "np.mean(fz), np.std(fz)"
   ]
  },
  {
   "cell_type": "markdown",
   "metadata": {},
   "source": [
    "# Optionally, debug"
   ]
  },
  {
   "cell_type": "code",
   "execution_count": null,
   "metadata": {
    "scrolled": true
   },
   "outputs": [],
   "source": [
    "# name_leaves, name_tree = tree_flatten(names)\n",
    "# param_leaves = name_tree.flatten_up_to(params)\n",
    "# grad_leaves = name_tree.flatten_up_to(grad)\n",
    "\n",
    "# for n, p, g in zip(name_leaves, param_leaves, grad_leaves):\n",
    "#     print(n, p)"
   ]
  },
  {
   "cell_type": "markdown",
   "metadata": {},
   "source": [
    "# Check the losses"
   ]
  },
  {
   "cell_type": "code",
   "execution_count": null,
   "metadata": {},
   "outputs": [],
   "source": [
    "plt.plot(losses[400:])"
   ]
  },
  {
   "cell_type": "code",
   "execution_count": null,
   "metadata": {
    "scrolled": true
   },
   "outputs": [],
   "source": [
    "n_examples = 8\n",
    "\n",
    "log_px, finvx, _ = forward(params, state, np.zeros(n_examples), x_train[:n_examples], (), test=TEST, key=key, sigma=0.0)\n",
    "_, fz, _ = inverse(params, state, np.zeros(n_examples), finvx, (), test=TEST, key=key)\n",
    "fz /= (2.0**quantize_level_bits)\n",
    "\n",
    "for i in range(n_examples):\n",
    "    fig, (ax1, ax2) = plt.subplots(1, 2)\n",
    "    ax1.imshow(fz[i])\n",
    "    ax2.imshow(x_train[i]/(2.0**quantize_level_bits))\n",
    "    plt.show()"
   ]
  },
  {
   "cell_type": "code",
   "execution_count": null,
   "metadata": {
    "scrolled": true
   },
   "outputs": [],
   "source": [
    "np.mean(finvx), np.std(finvx)"
   ]
  },
  {
   "cell_type": "code",
   "execution_count": null,
   "metadata": {
    "scrolled": false
   },
   "outputs": [],
   "source": [
    "n_samples = 48\n",
    "z = random.normal(key, (n_samples, z_dim))*0.5\n",
    "# z = random.normal(key, (n_samples,) + x_train.shape[1:])\n",
    "_, fz, _ = inverse(params, state, np.zeros(n_samples), z, (), test=TEST)\n",
    "fz /= (2.0**quantize_level_bits) # Put the image (mostly) between 0 and 1\n",
    "\n",
    "n_cols = 8\n",
    "n_rows = int(np.ceil(n_samples/n_cols))\n",
    "\n",
    "fig, axes = plt.subplots(n_rows, n_cols); axes = axes.ravel()\n",
    "fig.set_size_inches(3*n_cols, 3*n_rows)\n",
    "\n",
    "for i, ax in enumerate(axes):\n",
    "    ax.imshow(fz[i])"
   ]
  },
  {
   "cell_type": "code",
   "execution_count": null,
   "metadata": {},
   "outputs": [],
   "source": [
    "def interpolate_pairs(index_pairs, n_points=20):\n",
    "    \n",
    "    n_cols = n_points\n",
    "    n_rows = len(index_pairs)\n",
    "\n",
    "    fig, axes = plt.subplots(n_rows, n_cols)\n",
    "    fig.set_size_inches(2*n_cols, 2*n_rows)\n",
    "    \n",
    "    for i, (idx1, idx2) in enumerate(index_pairs):\n",
    "        x = x_train[[idx1, idx2]]\n",
    "        _, finvx, _ = forward(params, state, np.zeros(2), x, (), test=TEST, key=key)\n",
    "        finvx1, finvx2 = finvx\n",
    "        interpolation_z = np.linspace(finvx1, finvx2, n_points)\n",
    "        _, fz, _ = inverse(params, state, np.zeros(n_points), interpolation_z, (), test=TEST, key=key)\n",
    "        fz /= (2.0**quantize_level_bits)\n",
    "        for j in range(n_points):\n",
    "            axes[i,j].imshow(fz[j])\n",
    "    plt.show()"
   ]
  },
  {
   "cell_type": "code",
   "execution_count": null,
   "metadata": {
    "scrolled": false
   },
   "outputs": [],
   "source": [
    "n_pairs = 30\n",
    "random_pairs = random.randint(key, (2*n_pairs,), minval=0, maxval=x_train.shape[0])\n",
    "pairs_iter = iter(random_pairs)\n",
    "image_pairs = [(next(pairs_iter), next(pairs_iter)) for _ in range(n_pairs)]\n",
    "interpolate_pairs(image_pairs)"
   ]
  },
  {
   "cell_type": "code",
   "execution_count": null,
   "metadata": {},
   "outputs": [],
   "source": []
  },
  {
   "cell_type": "code",
   "execution_count": null,
   "metadata": {},
   "outputs": [],
   "source": []
  },
  {
   "cell_type": "code",
   "execution_count": null,
   "metadata": {},
   "outputs": [],
   "source": []
  },
  {
   "cell_type": "code",
   "execution_count": null,
   "metadata": {},
   "outputs": [],
   "source": []
  },
  {
   "cell_type": "code",
   "execution_count": null,
   "metadata": {},
   "outputs": [],
   "source": []
  },
  {
   "cell_type": "code",
   "execution_count": null,
   "metadata": {},
   "outputs": [],
   "source": []
  },
  {
   "cell_type": "code",
   "execution_count": null,
   "metadata": {},
   "outputs": [],
   "source": []
  },
  {
   "cell_type": "code",
   "execution_count": null,
   "metadata": {},
   "outputs": [],
   "source": []
  },
  {
   "cell_type": "code",
   "execution_count": null,
   "metadata": {},
   "outputs": [],
   "source": []
  },
  {
   "cell_type": "code",
   "execution_count": null,
   "metadata": {},
   "outputs": [],
   "source": []
  },
  {
   "cell_type": "code",
   "execution_count": null,
   "metadata": {},
   "outputs": [],
   "source": []
  },
  {
   "cell_type": "code",
   "execution_count": null,
   "metadata": {},
   "outputs": [],
   "source": []
  },
  {
   "cell_type": "code",
   "execution_count": null,
   "metadata": {},
   "outputs": [],
   "source": []
  },
  {
   "cell_type": "code",
   "execution_count": null,
   "metadata": {},
   "outputs": [],
   "source": []
  },
  {
   "cell_type": "code",
   "execution_count": null,
   "metadata": {},
   "outputs": [],
   "source": []
  }
 ],
 "metadata": {
  "kernelspec": {
   "display_name": "Python 3",
   "language": "python",
   "name": "python3"
  },
  "language_info": {
   "codemirror_mode": {
    "name": "ipython",
    "version": 3
   },
   "file_extension": ".py",
   "mimetype": "text/x-python",
   "name": "python",
   "nbconvert_exporter": "python",
   "pygments_lexer": "ipython3",
   "version": "3.7.7"
  }
 },
 "nbformat": 4,
 "nbformat_minor": 4
}
